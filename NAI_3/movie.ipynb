{
 "cells": [
  {
   "cell_type": "code",
   "execution_count": 629,
   "id": "e381bdc4-feac-465f-bee0-e3cab84518ee",
   "metadata": {},
   "outputs": [],
   "source": [
    "import pandas as pd\n",
    "import numpy as np\n",
    "import requests\n",
    "\n",
    "from sklearn.model_selection import train_test_split\n",
    "from sklearn.decomposition import PCA\n",
    "\n",
    "import plotly.graph_objects as go\n",
    "\n",
    "from tensorflow.keras.models import Model\n",
    "from tensorflow.keras.layers import Input, Embedding, Flatten, Dot, Dense\n",
    "from tensorflow.keras.optimizers import Adam\n",
    "from tensorflow.keras.layers import Lambda\n",
    "from tensorflow.keras.callbacks import EarlyStopping\n",
    "import tensorflow.keras.backend as K\n",
    "\n",
    "# Wczytanie danych z pliku CSV\n",
    "file_path = '/root/Documents/dane_ok.csv'\n",
    "df = pd.read_csv(file_path, delimiter='\\t', encoding='ISO-8859-2')\n",
    "\n",
    "movie_ids = df['Movie'].unique()\n",
    "movie_id_mapping = {id: i for i, id in enumerate(movie_ids)}"
   ]
  },
  {
   "cell_type": "markdown",
   "id": "6bd65bc2-1990-4cde-9ef9-71fe67d22f19",
   "metadata": {},
   "source": [
    "# Pobranie ocen za pomocą ocen z OMDB_API"
   ]
  },
  {
   "cell_type": "code",
   "execution_count": null,
   "id": "ce9a214d-00ca-4dfd-83fb-95fd882bd008",
   "metadata": {},
   "outputs": [],
   "source": [
    "API_KEY = \"HEHE\"\n",
    "\n",
    "def get_movie_rating_from_api(movie_title):\n",
    "    \"\"\"\n",
    "    Pobiera średnią ocenę filmu z OMDb API.\n",
    "    \"\"\"\n",
    "    url = f\"http://www.omdbapi.com/?t={movie_title}&apikey={API_KEY}\"\n",
    "    response = requests.get(url)\n",
    "    if response.status_code == 200:\n",
    "        data = response.json()\n",
    "        if 'imdbRating' in data and data['imdbRating'] != \"N/A\":\n",
    "            return float(data['imdbRating'])\n",
    "    return None\n",
    "\n",
    "movie_ratings = {}\n",
    "for movie_id in movie_ids:\n",
    "    movie_name = movie_id\n",
    "    rating = get_movie_rating_from_api(movie_name)\n",
    "    if rating is not None:\n",
    "        movie_ratings[movie_id] = rating\n",
    "        print(f\"Średnia ocena z API dla '{movie_name}': {rating}\")\n",
    "\n",
    "ratings_df = pd.DataFrame(list(movie_ratings.items()), columns=['Movie', 'API_Rating'])\n",
    "ratings_df = ratings_df.dropna(subset=['API_Rating'])\n",
    "ratings_df.to_csv('/root/Documents/movie_ratings.csv', sep='\\t', encoding='ISO-8859-2', index=False)\n",
    "\n",
    "print(\"Średnie oceny zostały zapisane do pliku.\")"
   ]
  },
  {
   "cell_type": "markdown",
   "id": "b292ecae-f0af-487c-9605-03488b10da86",
   "metadata": {},
   "source": [
    "# Uzupełnienie brakujących danych\n",
    "Uzupełnienie brakujących ocen ocenami z API, lub średnią ocen użytkowników z CSV."
   ]
  },
  {
   "cell_type": "code",
   "execution_count": 634,
   "id": "77440c9e-fd95-454c-afc5-4e811bfe84df",
   "metadata": {},
   "outputs": [],
   "source": [
    "ratings_df = pd.read_csv('/root/Documents/movie_ratings.csv', delimiter='\\t', encoding='ISO-8859-2')\n",
    "\n",
    "def calculate_fallback_rating(movie_id, df):\n",
    "    \"\"\"\n",
    "    Oblicza średnią ocenę filmu na podstawie danych użytkowników z CSV.\n",
    "    Jeśli oceniał tylko jeden użytkownik, zwraca ocenę 5.\n",
    "    \"\"\"\n",
    "    movie_ratings = df[df['Movie'] == movie_id]['Rating']\n",
    "    if len(movie_ratings) == 1:\n",
    "        return 5\n",
    "    return movie_ratings.mean()\n",
    "\n",
    "def fill_missing_ratings(df, ratings_df):\n",
    "    \"\"\"\n",
    "    Uzupełnia brakujące oceny filmów dla każdego użytkownika.\n",
    "    \"\"\"\n",
    "    ratings_map = dict(zip(ratings_df['Movie'], ratings_df['API_Rating']))\n",
    "\n",
    "    # Tworzenie pełnej macierzy użytkownik-film\n",
    "    full_data = []\n",
    "    for user_id in df['User'].unique():\n",
    "        for movie_id in df['Movie'].unique():\n",
    "            existing_rating = df[(df['User'] == user_id) & (df['Movie'] == movie_id)]['Rating']\n",
    "            if not existing_rating.empty:\n",
    "                full_data.append({'User': user_id, 'Movie': movie_id, 'Rating': existing_rating.values[0]})\n",
    "            else:\n",
    "                # Jeśli brak oceny, używamy średniej z API lub CSV\n",
    "                fallback_rating = ratings_map.get(movie_id) or calculate_fallback_rating(movie_id, df)\n",
    "                full_data.append({'User': user_id, 'Movie': movie_id, 'Rating': fallback_rating})\n",
    "\n",
    "    return pd.DataFrame(full_data)\n",
    "\n",
    "# Uzupełnianie danych\n",
    "df_filled = fill_missing_ratings(df, ratings_df)\n",
    "\n",
    "# Skalowanie ocen do odległości w skali [0.0, 0.9]\n",
    "df_filled['Distance'] = 1.0 - (df_filled['Rating'] / 10.0)\n",
    "\n",
    "# Tworzenie unikalnego mapowania dla użytkowników (imiona -> liczby)\n",
    "user_names = df_filled['User'].unique()\n",
    "movie_names = df_filled['Movie'].unique()\n",
    "\n",
    "user_id_mapping = {id: i for i, id in enumerate(user_names)}\n",
    "movie_id_mapping = {id: i for i, id in enumerate(movie_names)}\n",
    "\n",
    "user_name_to_id = {name: i for i, name in enumerate(user_names)}\n",
    "movie_name_to_id = {name: i for i, name in enumerate(movie_names)}\n",
    "\n",
    "# Zmiana kolumny 'User' na wartości liczbowe\n",
    "df_filled['User'] = df_filled['User'].map(user_name_to_id)\n",
    "df_filled['Movie'] = df_filled['Movie'].map(movie_name_to_id)"
   ]
  },
  {
   "cell_type": "code",
   "execution_count": 635,
   "id": "006f5ba4-2b28-49e4-ab18-5ea5ab7382fd",
   "metadata": {},
   "outputs": [
    {
     "name": "stdout",
     "output_type": "stream",
     "text": [
      "Dane zostały przygotowane.\n"
     ]
    }
   ],
   "source": [
    "# Dane wejściowe\n",
    "users = np.array(df_filled['User'].values, dtype=np.int32)\n",
    "movies = np.array(df_filled['Movie'].values, dtype=np.int32)\n",
    "distances = np.array(df_filled['Distance'].values, dtype=np.float32)\n",
    "\n",
    "print(\"Dane zostały przygotowane.\")"
   ]
  },
  {
   "cell_type": "code",
   "execution_count": 636,
   "id": "1e49a1a8-7465-4b5c-9613-def443936735",
   "metadata": {},
   "outputs": [
    {
     "name": "stdout",
     "output_type": "stream",
     "text": [
      "Minimalna wartość users: 0\n",
      "Maksymalna wartość users: 8\n",
      "Minimalna wartość movies: 0\n",
      "Maksymalna wartość movies: 250\n",
      "Minimalna wartość distances: 0.0\n",
      "Maksymalna wartość distances: 0.9\n",
      "Ilość NaN: User        0\n",
      "Movie       0\n",
      "Rating      0\n",
      "Distance    0\n",
      "dtype: int64\n"
     ]
    }
   ],
   "source": [
    "print(\"Minimalna wartość users:\", np.min(users))\n",
    "print(\"Maksymalna wartość users:\", np.max(users))\n",
    "\n",
    "print(\"Minimalna wartość movies:\", np.min(movies))\n",
    "print(\"Maksymalna wartość movies:\", np.max(movies))\n",
    "\n",
    "print(\"Minimalna wartość distances:\", np.min(distances))\n",
    "print(\"Maksymalna wartość distances:\", np.max(distances))\n",
    "\n",
    "print(\"Ilość NaN:\", df_filled.isna().sum())"
   ]
  },
  {
   "cell_type": "markdown",
   "id": "d0250f38-2d73-42d3-883f-9ffa63689eac",
   "metadata": {},
   "source": [
    "# Podział zbioru na treningowy i testowy\n",
    "W naszym przypadku zbiór testowy będzie też zbiorem walidacyjnym."
   ]
  },
  {
   "cell_type": "code",
   "execution_count": 627,
   "id": "768b7d0d-a24b-4d5b-895c-3780359a864e",
   "metadata": {},
   "outputs": [
    {
     "name": "stdout",
     "output_type": "stream",
     "text": [
      "Liczba próbek w zbiorze treningowym: 1807\n",
      "Liczba próbek w zbiorze testowym: 452\n"
     ]
    }
   ],
   "source": [
    "# Podział na zbiór treningowy i testowy\n",
    "train_users, test_users, train_movies, test_movies, train_distances, test_distances = train_test_split(\n",
    "    users, movies, distances, test_size=0.2, random_state=42\n",
    ")\n",
    "\n",
    "# Wyświetlenie rozmiarów danych\n",
    "print(f\"Liczba próbek w zbiorze treningowym: {len(train_users)}\")\n",
    "print(f\"Liczba próbek w zbiorze testowym: {len(test_users)}\")"
   ]
  },
  {
   "cell_type": "markdown",
   "id": "5b401095-ca0c-4651-b942-187bc6d6b793",
   "metadata": {},
   "source": [
    "# Defninicja modelu\n",
    "Cel modelu to obliczanie odległości między użytkownikiem a filmem, odlęgłość reprezentuje ocenę. Im bliżej film jest użytkownika tym jest bardziej lubiany."
   ]
  },
  {
   "cell_type": "code",
   "execution_count": 610,
   "id": "87c4fe4b-6e62-478f-bc1e-15db9fb24a9c",
   "metadata": {},
   "outputs": [],
   "source": [
    "\n",
    "# Definicja modelu\n",
    "embedding_size = 4\n",
    "\n",
    "# Warstwy embedding\n",
    "user_input = Input(shape=(1,), name=\"User_Input\")\n",
    "movie_input = Input(shape=(1,), name=\"Movie_Input\")\n",
    "\n",
    "user_embedding = Embedding(input_dim=num_users, output_dim=embedding_size, name=\"User_Embedding\")(user_input)\n",
    "movie_embedding = Embedding(input_dim=num_movies, output_dim=embedding_size, name=\"Movie_Embedding\")(movie_input)\n",
    "\n",
    "# Spłaszczenie embeddingów\n",
    "user_vec = Flatten(name=\"Flatten_User\")(user_embedding)\n",
    "movie_vec = Flatten(name=\"Flatten_Movie\")(movie_embedding)\n",
    "\n",
    "# Obliczanie różnicy między embeddingami użytkownika i filmu\n",
    "diff_vec = Subtract(name=\"Subtract\")([user_vec, movie_vec])\n",
    "\n",
    "# Podniesienie różnic do kwadratu (element-wise)\n",
    "squared_diff = Multiply(name=\"Squared_Diff\")([diff_vec, diff_vec])\n",
    "\n",
    "# Suma wszystkich kwadratów\n",
    "sum_squared_diff = Lambda(\n",
    "    lambda x: K.sum(x, axis=1, keepdims=True), \n",
    "    output_shape=(1,),  # Kształt wyjścia po sumowaniu\n",
    "    name=\"Sum_Squared_Diff\"\n",
    ")(squared_diff)\n",
    "\n",
    "\n",
    "euclidean_distance = Lambda(\n",
    "    lambda x: K.sqrt(x), \n",
    "    output_shape=(1,), \n",
    "    name=\"Euclidean_Distance\"\n",
    ")(sum_squared_diff)\n",
    "\n",
    "\n",
    "# Model\n",
    "model = Model(inputs=[user_input, movie_input], outputs=euclidean_distance)\n",
    "model.compile(optimizer=Adam(learning_rate=0.0001), loss=\"mse\")"
   ]
  },
  {
   "cell_type": "markdown",
   "id": "d1d8c1c7-e0ee-479a-bae1-26cf68f112c9",
   "metadata": {},
   "source": [
    "# Uczenie modelu\n",
    "Uczenie modelu z wczesnym przerwaniem gdy strata na zbiorze walidacyjnym będzie minimalna."
   ]
  },
  {
   "cell_type": "code",
   "execution_count": 611,
   "id": "71d1606d-3734-47e7-9124-f4a345763be4",
   "metadata": {},
   "outputs": [
    {
     "name": "stdout",
     "output_type": "stream",
     "text": [
      "Epoch 1/1000\n",
      "\u001b[1m57/57\u001b[0m \u001b[32m━━━━━━━━━━━━━━━━━━━━\u001b[0m\u001b[37m\u001b[0m \u001b[1m1s\u001b[0m 7ms/step - loss: 0.1187 - val_loss: 0.1180\n",
      "Epoch 2/1000\n",
      "\u001b[1m57/57\u001b[0m \u001b[32m━━━━━━━━━━━━━━━━━━━━\u001b[0m\u001b[37m\u001b[0m \u001b[1m0s\u001b[0m 1ms/step - loss: 0.1081 - val_loss: 0.1126\n",
      "Epoch 3/1000\n",
      "\u001b[1m57/57\u001b[0m \u001b[32m━━━━━━━━━━━━━━━━━━━━\u001b[0m\u001b[37m\u001b[0m \u001b[1m0s\u001b[0m 1ms/step - loss: 0.1078 - val_loss: 0.1070\n",
      "Epoch 4/1000\n",
      "\u001b[1m57/57\u001b[0m \u001b[32m━━━━━━━━━━━━━━━━━━━━\u001b[0m\u001b[37m\u001b[0m \u001b[1m0s\u001b[0m 1ms/step - loss: 0.0993 - val_loss: 0.1011\n",
      "Epoch 5/1000\n",
      "\u001b[1m57/57\u001b[0m \u001b[32m━━━━━━━━━━━━━━━━━━━━\u001b[0m\u001b[37m\u001b[0m \u001b[1m0s\u001b[0m 1ms/step - loss: 0.0937 - val_loss: 0.0954\n",
      "Epoch 6/1000\n",
      "\u001b[1m57/57\u001b[0m \u001b[32m━━━━━━━━━━━━━━━━━━━━\u001b[0m\u001b[37m\u001b[0m \u001b[1m0s\u001b[0m 1ms/step - loss: 0.0919 - val_loss: 0.0898\n",
      "Epoch 7/1000\n",
      "\u001b[1m57/57\u001b[0m \u001b[32m━━━━━━━━━━━━━━━━━━━━\u001b[0m\u001b[37m\u001b[0m \u001b[1m0s\u001b[0m 1ms/step - loss: 0.0818 - val_loss: 0.0844\n",
      "Epoch 8/1000\n",
      "\u001b[1m57/57\u001b[0m \u001b[32m━━━━━━━━━━━━━━━━━━━━\u001b[0m\u001b[37m\u001b[0m \u001b[1m0s\u001b[0m 1ms/step - loss: 0.0762 - val_loss: 0.0794\n",
      "Epoch 9/1000\n",
      "\u001b[1m57/57\u001b[0m \u001b[32m━━━━━━━━━━━━━━━━━━━━\u001b[0m\u001b[37m\u001b[0m \u001b[1m0s\u001b[0m 1ms/step - loss: 0.0718 - val_loss: 0.0747\n",
      "Epoch 10/1000\n",
      "\u001b[1m57/57\u001b[0m \u001b[32m━━━━━━━━━━━━━━━━━━━━\u001b[0m\u001b[37m\u001b[0m \u001b[1m0s\u001b[0m 1ms/step - loss: 0.0689 - val_loss: 0.0703\n",
      "Epoch 11/1000\n",
      "\u001b[1m57/57\u001b[0m \u001b[32m━━━━━━━━━━━━━━━━━━━━\u001b[0m\u001b[37m\u001b[0m \u001b[1m0s\u001b[0m 1ms/step - loss: 0.0618 - val_loss: 0.0662\n",
      "Epoch 12/1000\n",
      "\u001b[1m57/57\u001b[0m \u001b[32m━━━━━━━━━━━━━━━━━━━━\u001b[0m\u001b[37m\u001b[0m \u001b[1m0s\u001b[0m 1ms/step - loss: 0.0567 - val_loss: 0.0625\n",
      "Epoch 13/1000\n",
      "\u001b[1m57/57\u001b[0m \u001b[32m━━━━━━━━━━━━━━━━━━━━\u001b[0m\u001b[37m\u001b[0m \u001b[1m0s\u001b[0m 1ms/step - loss: 0.0549 - val_loss: 0.0590\n",
      "Epoch 14/1000\n",
      "\u001b[1m57/57\u001b[0m \u001b[32m━━━━━━━━━━━━━━━━━━━━\u001b[0m\u001b[37m\u001b[0m \u001b[1m0s\u001b[0m 1ms/step - loss: 0.0539 - val_loss: 0.0559\n",
      "Epoch 15/1000\n",
      "\u001b[1m57/57\u001b[0m \u001b[32m━━━━━━━━━━━━━━━━━━━━\u001b[0m\u001b[37m\u001b[0m \u001b[1m0s\u001b[0m 1ms/step - loss: 0.0513 - val_loss: 0.0531\n",
      "Epoch 16/1000\n",
      "\u001b[1m57/57\u001b[0m \u001b[32m━━━━━━━━━━━━━━━━━━━━\u001b[0m\u001b[37m\u001b[0m \u001b[1m0s\u001b[0m 1ms/step - loss: 0.0458 - val_loss: 0.0506\n",
      "Epoch 17/1000\n",
      "\u001b[1m57/57\u001b[0m \u001b[32m━━━━━━━━━━━━━━━━━━━━\u001b[0m\u001b[37m\u001b[0m \u001b[1m0s\u001b[0m 1ms/step - loss: 0.0453 - val_loss: 0.0483\n",
      "Epoch 18/1000\n",
      "\u001b[1m57/57\u001b[0m \u001b[32m━━━━━━━━━━━━━━━━━━━━\u001b[0m\u001b[37m\u001b[0m \u001b[1m0s\u001b[0m 1ms/step - loss: 0.0433 - val_loss: 0.0463\n",
      "Epoch 19/1000\n",
      "\u001b[1m57/57\u001b[0m \u001b[32m━━━━━━━━━━━━━━━━━━━━\u001b[0m\u001b[37m\u001b[0m \u001b[1m0s\u001b[0m 1ms/step - loss: 0.0422 - val_loss: 0.0445\n",
      "Epoch 20/1000\n",
      "\u001b[1m57/57\u001b[0m \u001b[32m━━━━━━━━━━━━━━━━━━━━\u001b[0m\u001b[37m\u001b[0m \u001b[1m0s\u001b[0m 1ms/step - loss: 0.0395 - val_loss: 0.0429\n",
      "Epoch 21/1000\n",
      "\u001b[1m57/57\u001b[0m \u001b[32m━━━━━━━━━━━━━━━━━━━━\u001b[0m\u001b[37m\u001b[0m \u001b[1m0s\u001b[0m 1ms/step - loss: 0.0383 - val_loss: 0.0414\n",
      "Epoch 22/1000\n",
      "\u001b[1m57/57\u001b[0m \u001b[32m━━━━━━━━━━━━━━━━━━━━\u001b[0m\u001b[37m\u001b[0m \u001b[1m0s\u001b[0m 1ms/step - loss: 0.0381 - val_loss: 0.0401\n",
      "Epoch 23/1000\n",
      "\u001b[1m57/57\u001b[0m \u001b[32m━━━━━━━━━━━━━━━━━━━━\u001b[0m\u001b[37m\u001b[0m \u001b[1m0s\u001b[0m 1ms/step - loss: 0.0368 - val_loss: 0.0390\n",
      "Epoch 24/1000\n",
      "\u001b[1m57/57\u001b[0m \u001b[32m━━━━━━━━━━━━━━━━━━━━\u001b[0m\u001b[37m\u001b[0m \u001b[1m0s\u001b[0m 1ms/step - loss: 0.0344 - val_loss: 0.0380\n",
      "Epoch 25/1000\n",
      "\u001b[1m57/57\u001b[0m \u001b[32m━━━━━━━━━━━━━━━━━━━━\u001b[0m\u001b[37m\u001b[0m \u001b[1m0s\u001b[0m 1ms/step - loss: 0.0331 - val_loss: 0.0371\n",
      "Epoch 26/1000\n",
      "\u001b[1m57/57\u001b[0m \u001b[32m━━━━━━━━━━━━━━━━━━━━\u001b[0m\u001b[37m\u001b[0m \u001b[1m0s\u001b[0m 1ms/step - loss: 0.0330 - val_loss: 0.0364\n",
      "Epoch 27/1000\n",
      "\u001b[1m57/57\u001b[0m \u001b[32m━━━━━━━━━━━━━━━━━━━━\u001b[0m\u001b[37m\u001b[0m \u001b[1m0s\u001b[0m 1ms/step - loss: 0.0311 - val_loss: 0.0357\n",
      "Epoch 28/1000\n",
      "\u001b[1m57/57\u001b[0m \u001b[32m━━━━━━━━━━━━━━━━━━━━\u001b[0m\u001b[37m\u001b[0m \u001b[1m0s\u001b[0m 1ms/step - loss: 0.0321 - val_loss: 0.0351\n",
      "Epoch 29/1000\n",
      "\u001b[1m57/57\u001b[0m \u001b[32m━━━━━━━━━━━━━━━━━━━━\u001b[0m\u001b[37m\u001b[0m \u001b[1m0s\u001b[0m 1ms/step - loss: 0.0304 - val_loss: 0.0346\n",
      "Epoch 30/1000\n",
      "\u001b[1m57/57\u001b[0m \u001b[32m━━━━━━━━━━━━━━━━━━━━\u001b[0m\u001b[37m\u001b[0m \u001b[1m0s\u001b[0m 1ms/step - loss: 0.0281 - val_loss: 0.0341\n",
      "Epoch 31/1000\n",
      "\u001b[1m57/57\u001b[0m \u001b[32m━━━━━━━━━━━━━━━━━━━━\u001b[0m\u001b[37m\u001b[0m \u001b[1m0s\u001b[0m 1ms/step - loss: 0.0280 - val_loss: 0.0337\n",
      "Epoch 32/1000\n",
      "\u001b[1m57/57\u001b[0m \u001b[32m━━━━━━━━━━━━━━━━━━━━\u001b[0m\u001b[37m\u001b[0m \u001b[1m0s\u001b[0m 1ms/step - loss: 0.0280 - val_loss: 0.0334\n",
      "Epoch 33/1000\n",
      "\u001b[1m57/57\u001b[0m \u001b[32m━━━━━━━━━━━━━━━━━━━━\u001b[0m\u001b[37m\u001b[0m \u001b[1m0s\u001b[0m 1ms/step - loss: 0.0272 - val_loss: 0.0331\n",
      "Epoch 34/1000\n",
      "\u001b[1m57/57\u001b[0m \u001b[32m━━━━━━━━━━━━━━━━━━━━\u001b[0m\u001b[37m\u001b[0m \u001b[1m0s\u001b[0m 1ms/step - loss: 0.0287 - val_loss: 0.0328\n",
      "Epoch 35/1000\n",
      "\u001b[1m57/57\u001b[0m \u001b[32m━━━━━━━━━━━━━━━━━━━━\u001b[0m\u001b[37m\u001b[0m \u001b[1m0s\u001b[0m 1ms/step - loss: 0.0271 - val_loss: 0.0326\n",
      "Epoch 36/1000\n",
      "\u001b[1m57/57\u001b[0m \u001b[32m━━━━━━━━━━━━━━━━━━━━\u001b[0m\u001b[37m\u001b[0m \u001b[1m0s\u001b[0m 1ms/step - loss: 0.0268 - val_loss: 0.0324\n",
      "Epoch 37/1000\n",
      "\u001b[1m57/57\u001b[0m \u001b[32m━━━━━━━━━━━━━━━━━━━━\u001b[0m\u001b[37m\u001b[0m \u001b[1m0s\u001b[0m 1ms/step - loss: 0.0255 - val_loss: 0.0322\n",
      "Epoch 38/1000\n",
      "\u001b[1m57/57\u001b[0m \u001b[32m━━━━━━━━━━━━━━━━━━━━\u001b[0m\u001b[37m\u001b[0m \u001b[1m0s\u001b[0m 1ms/step - loss: 0.0268 - val_loss: 0.0320\n",
      "Epoch 39/1000\n",
      "\u001b[1m57/57\u001b[0m \u001b[32m━━━━━━━━━━━━━━━━━━━━\u001b[0m\u001b[37m\u001b[0m \u001b[1m0s\u001b[0m 1ms/step - loss: 0.0263 - val_loss: 0.0319\n",
      "Epoch 40/1000\n",
      "\u001b[1m57/57\u001b[0m \u001b[32m━━━━━━━━━━━━━━━━━━━━\u001b[0m\u001b[37m\u001b[0m \u001b[1m0s\u001b[0m 1ms/step - loss: 0.0263 - val_loss: 0.0318\n",
      "Epoch 41/1000\n",
      "\u001b[1m57/57\u001b[0m \u001b[32m━━━━━━━━━━━━━━━━━━━━\u001b[0m\u001b[37m\u001b[0m \u001b[1m0s\u001b[0m 1ms/step - loss: 0.0258 - val_loss: 0.0316\n",
      "Epoch 42/1000\n",
      "\u001b[1m57/57\u001b[0m \u001b[32m━━━━━━━━━━━━━━━━━━━━\u001b[0m\u001b[37m\u001b[0m \u001b[1m0s\u001b[0m 1ms/step - loss: 0.0256 - val_loss: 0.0315\n",
      "Epoch 43/1000\n",
      "\u001b[1m57/57\u001b[0m \u001b[32m━━━━━━━━━━━━━━━━━━━━\u001b[0m\u001b[37m\u001b[0m \u001b[1m0s\u001b[0m 1ms/step - loss: 0.0259 - val_loss: 0.0314\n",
      "Epoch 44/1000\n",
      "\u001b[1m57/57\u001b[0m \u001b[32m━━━━━━━━━━━━━━━━━━━━\u001b[0m\u001b[37m\u001b[0m \u001b[1m0s\u001b[0m 1ms/step - loss: 0.0247 - val_loss: 0.0313\n",
      "Epoch 45/1000\n",
      "\u001b[1m57/57\u001b[0m \u001b[32m━━━━━━━━━━━━━━━━━━━━\u001b[0m\u001b[37m\u001b[0m \u001b[1m0s\u001b[0m 1ms/step - loss: 0.0264 - val_loss: 0.0313\n",
      "Epoch 46/1000\n",
      "\u001b[1m57/57\u001b[0m \u001b[32m━━━━━━━━━━━━━━━━━━━━\u001b[0m\u001b[37m\u001b[0m \u001b[1m0s\u001b[0m 1ms/step - loss: 0.0244 - val_loss: 0.0312\n",
      "Epoch 47/1000\n",
      "\u001b[1m57/57\u001b[0m \u001b[32m━━━━━━━━━━━━━━━━━━━━\u001b[0m\u001b[37m\u001b[0m \u001b[1m0s\u001b[0m 1ms/step - loss: 0.0248 - val_loss: 0.0311\n",
      "Epoch 48/1000\n",
      "\u001b[1m57/57\u001b[0m \u001b[32m━━━━━━━━━━━━━━━━━━━━\u001b[0m\u001b[37m\u001b[0m \u001b[1m0s\u001b[0m 3ms/step - loss: 0.0241 - val_loss: 0.0310\n",
      "Epoch 49/1000\n",
      "\u001b[1m57/57\u001b[0m \u001b[32m━━━━━━━━━━━━━━━━━━━━\u001b[0m\u001b[37m\u001b[0m \u001b[1m0s\u001b[0m 1ms/step - loss: 0.0229 - val_loss: 0.0309\n",
      "Epoch 50/1000\n",
      "\u001b[1m57/57\u001b[0m \u001b[32m━━━━━━━━━━━━━━━━━━━━\u001b[0m\u001b[37m\u001b[0m \u001b[1m0s\u001b[0m 1ms/step - loss: 0.0241 - val_loss: 0.0309\n",
      "Epoch 51/1000\n",
      "\u001b[1m57/57\u001b[0m \u001b[32m━━━━━━━━━━━━━━━━━━━━\u001b[0m\u001b[37m\u001b[0m \u001b[1m0s\u001b[0m 1ms/step - loss: 0.0245 - val_loss: 0.0308\n",
      "Epoch 52/1000\n",
      "\u001b[1m57/57\u001b[0m \u001b[32m━━━━━━━━━━━━━━━━━━━━\u001b[0m\u001b[37m\u001b[0m \u001b[1m0s\u001b[0m 1ms/step - loss: 0.0245 - val_loss: 0.0307\n",
      "Epoch 53/1000\n",
      "\u001b[1m57/57\u001b[0m \u001b[32m━━━━━━━━━━━━━━━━━━━━\u001b[0m\u001b[37m\u001b[0m \u001b[1m0s\u001b[0m 1ms/step - loss: 0.0241 - val_loss: 0.0306\n",
      "Epoch 54/1000\n",
      "\u001b[1m57/57\u001b[0m \u001b[32m━━━━━━━━━━━━━━━━━━━━\u001b[0m\u001b[37m\u001b[0m \u001b[1m0s\u001b[0m 1ms/step - loss: 0.0243 - val_loss: 0.0306\n",
      "Epoch 55/1000\n",
      "\u001b[1m57/57\u001b[0m \u001b[32m━━━━━━━━━━━━━━━━━━━━\u001b[0m\u001b[37m\u001b[0m \u001b[1m0s\u001b[0m 1ms/step - loss: 0.0236 - val_loss: 0.0305\n",
      "Epoch 56/1000\n",
      "\u001b[1m57/57\u001b[0m \u001b[32m━━━━━━━━━━━━━━━━━━━━\u001b[0m\u001b[37m\u001b[0m \u001b[1m0s\u001b[0m 1ms/step - loss: 0.0218 - val_loss: 0.0304\n",
      "Epoch 57/1000\n",
      "\u001b[1m57/57\u001b[0m \u001b[32m━━━━━━━━━━━━━━━━━━━━\u001b[0m\u001b[37m\u001b[0m \u001b[1m0s\u001b[0m 1ms/step - loss: 0.0239 - val_loss: 0.0303\n",
      "Epoch 58/1000\n",
      "\u001b[1m57/57\u001b[0m \u001b[32m━━━━━━━━━━━━━━━━━━━━\u001b[0m\u001b[37m\u001b[0m \u001b[1m0s\u001b[0m 1ms/step - loss: 0.0224 - val_loss: 0.0302\n",
      "Epoch 59/1000\n",
      "\u001b[1m57/57\u001b[0m \u001b[32m━━━━━━━━━━━━━━━━━━━━\u001b[0m\u001b[37m\u001b[0m \u001b[1m0s\u001b[0m 1ms/step - loss: 0.0217 - val_loss: 0.0301\n",
      "Epoch 60/1000\n",
      "\u001b[1m57/57\u001b[0m \u001b[32m━━━━━━━━━━━━━━━━━━━━\u001b[0m\u001b[37m\u001b[0m \u001b[1m0s\u001b[0m 1ms/step - loss: 0.0225 - val_loss: 0.0300\n",
      "Epoch 61/1000\n",
      "\u001b[1m57/57\u001b[0m \u001b[32m━━━━━━━━━━━━━━━━━━━━\u001b[0m\u001b[37m\u001b[0m \u001b[1m0s\u001b[0m 1ms/step - loss: 0.0223 - val_loss: 0.0299\n",
      "Epoch 62/1000\n",
      "\u001b[1m57/57\u001b[0m \u001b[32m━━━━━━━━━━━━━━━━━━━━\u001b[0m\u001b[37m\u001b[0m \u001b[1m0s\u001b[0m 1ms/step - loss: 0.0215 - val_loss: 0.0298\n",
      "Epoch 63/1000\n",
      "\u001b[1m57/57\u001b[0m \u001b[32m━━━━━━━━━━━━━━━━━━━━\u001b[0m\u001b[37m\u001b[0m \u001b[1m0s\u001b[0m 1ms/step - loss: 0.0212 - val_loss: 0.0297\n",
      "Epoch 64/1000\n",
      "\u001b[1m57/57\u001b[0m \u001b[32m━━━━━━━━━━━━━━━━━━━━\u001b[0m\u001b[37m\u001b[0m \u001b[1m0s\u001b[0m 1ms/step - loss: 0.0208 - val_loss: 0.0296\n",
      "Epoch 65/1000\n",
      "\u001b[1m57/57\u001b[0m \u001b[32m━━━━━━━━━━━━━━━━━━━━\u001b[0m\u001b[37m\u001b[0m \u001b[1m0s\u001b[0m 1ms/step - loss: 0.0212 - val_loss: 0.0295\n",
      "Epoch 66/1000\n",
      "\u001b[1m57/57\u001b[0m \u001b[32m━━━━━━━━━━━━━━━━━━━━\u001b[0m\u001b[37m\u001b[0m \u001b[1m0s\u001b[0m 1ms/step - loss: 0.0205 - val_loss: 0.0294\n",
      "Epoch 67/1000\n",
      "\u001b[1m57/57\u001b[0m \u001b[32m━━━━━━━━━━━━━━━━━━━━\u001b[0m\u001b[37m\u001b[0m \u001b[1m0s\u001b[0m 1ms/step - loss: 0.0209 - val_loss: 0.0292\n",
      "Epoch 68/1000\n",
      "\u001b[1m57/57\u001b[0m \u001b[32m━━━━━━━━━━━━━━━━━━━━\u001b[0m\u001b[37m\u001b[0m \u001b[1m0s\u001b[0m 1ms/step - loss: 0.0209 - val_loss: 0.0291\n",
      "Epoch 69/1000\n",
      "\u001b[1m57/57\u001b[0m \u001b[32m━━━━━━━━━━━━━━━━━━━━\u001b[0m\u001b[37m\u001b[0m \u001b[1m0s\u001b[0m 1ms/step - loss: 0.0201 - val_loss: 0.0290\n",
      "Epoch 70/1000\n",
      "\u001b[1m57/57\u001b[0m \u001b[32m━━━━━━━━━━━━━━━━━━━━\u001b[0m\u001b[37m\u001b[0m \u001b[1m0s\u001b[0m 1ms/step - loss: 0.0211 - val_loss: 0.0288\n",
      "Epoch 71/1000\n",
      "\u001b[1m57/57\u001b[0m \u001b[32m━━━━━━━━━━━━━━━━━━━━\u001b[0m\u001b[37m\u001b[0m \u001b[1m0s\u001b[0m 1ms/step - loss: 0.0207 - val_loss: 0.0287\n",
      "Epoch 72/1000\n",
      "\u001b[1m57/57\u001b[0m \u001b[32m━━━━━━━━━━━━━━━━━━━━\u001b[0m\u001b[37m\u001b[0m \u001b[1m0s\u001b[0m 1ms/step - loss: 0.0198 - val_loss: 0.0285\n",
      "Epoch 73/1000\n",
      "\u001b[1m57/57\u001b[0m \u001b[32m━━━━━━━━━━━━━━━━━━━━\u001b[0m\u001b[37m\u001b[0m \u001b[1m0s\u001b[0m 1ms/step - loss: 0.0197 - val_loss: 0.0284\n",
      "Epoch 74/1000\n",
      "\u001b[1m57/57\u001b[0m \u001b[32m━━━━━━━━━━━━━━━━━━━━\u001b[0m\u001b[37m\u001b[0m \u001b[1m0s\u001b[0m 1ms/step - loss: 0.0200 - val_loss: 0.0282\n",
      "Epoch 75/1000\n",
      "\u001b[1m57/57\u001b[0m \u001b[32m━━━━━━━━━━━━━━━━━━━━\u001b[0m\u001b[37m\u001b[0m \u001b[1m0s\u001b[0m 2ms/step - loss: 0.0200 - val_loss: 0.0280\n",
      "Epoch 76/1000\n",
      "\u001b[1m57/57\u001b[0m \u001b[32m━━━━━━━━━━━━━━━━━━━━\u001b[0m\u001b[37m\u001b[0m \u001b[1m0s\u001b[0m 1ms/step - loss: 0.0198 - val_loss: 0.0279\n",
      "Epoch 77/1000\n",
      "\u001b[1m57/57\u001b[0m \u001b[32m━━━━━━━━━━━━━━━━━━━━\u001b[0m\u001b[37m\u001b[0m \u001b[1m0s\u001b[0m 1ms/step - loss: 0.0205 - val_loss: 0.0277\n",
      "Epoch 78/1000\n",
      "\u001b[1m57/57\u001b[0m \u001b[32m━━━━━━━━━━━━━━━━━━━━\u001b[0m\u001b[37m\u001b[0m \u001b[1m0s\u001b[0m 1ms/step - loss: 0.0191 - val_loss: 0.0275\n",
      "Epoch 79/1000\n",
      "\u001b[1m57/57\u001b[0m \u001b[32m━━━━━━━━━━━━━━━━━━━━\u001b[0m\u001b[37m\u001b[0m \u001b[1m0s\u001b[0m 1ms/step - loss: 0.0187 - val_loss: 0.0273\n",
      "Epoch 80/1000\n",
      "\u001b[1m57/57\u001b[0m \u001b[32m━━━━━━━━━━━━━━━━━━━━\u001b[0m\u001b[37m\u001b[0m \u001b[1m0s\u001b[0m 1ms/step - loss: 0.0189 - val_loss: 0.0271\n",
      "Epoch 81/1000\n",
      "\u001b[1m57/57\u001b[0m \u001b[32m━━━━━━━━━━━━━━━━━━━━\u001b[0m\u001b[37m\u001b[0m \u001b[1m0s\u001b[0m 1ms/step - loss: 0.0184 - val_loss: 0.0269\n",
      "Epoch 82/1000\n",
      "\u001b[1m57/57\u001b[0m \u001b[32m━━━━━━━━━━━━━━━━━━━━\u001b[0m\u001b[37m\u001b[0m \u001b[1m0s\u001b[0m 1ms/step - loss: 0.0175 - val_loss: 0.0267\n",
      "Epoch 83/1000\n",
      "\u001b[1m57/57\u001b[0m \u001b[32m━━━━━━━━━━━━━━━━━━━━\u001b[0m\u001b[37m\u001b[0m \u001b[1m0s\u001b[0m 1ms/step - loss: 0.0164 - val_loss: 0.0265\n",
      "Epoch 84/1000\n",
      "\u001b[1m57/57\u001b[0m \u001b[32m━━━━━━━━━━━━━━━━━━━━\u001b[0m\u001b[37m\u001b[0m \u001b[1m0s\u001b[0m 1ms/step - loss: 0.0171 - val_loss: 0.0263\n",
      "Epoch 85/1000\n",
      "\u001b[1m57/57\u001b[0m \u001b[32m━━━━━━━━━━━━━━━━━━━━\u001b[0m\u001b[37m\u001b[0m \u001b[1m0s\u001b[0m 1ms/step - loss: 0.0175 - val_loss: 0.0261\n",
      "Epoch 86/1000\n",
      "\u001b[1m57/57\u001b[0m \u001b[32m━━━━━━━━━━━━━━━━━━━━\u001b[0m\u001b[37m\u001b[0m \u001b[1m0s\u001b[0m 1ms/step - loss: 0.0171 - val_loss: 0.0259\n",
      "Epoch 87/1000\n",
      "\u001b[1m57/57\u001b[0m \u001b[32m━━━━━━━━━━━━━━━━━━━━\u001b[0m\u001b[37m\u001b[0m \u001b[1m0s\u001b[0m 1ms/step - loss: 0.0183 - val_loss: 0.0257\n",
      "Epoch 88/1000\n",
      "\u001b[1m57/57\u001b[0m \u001b[32m━━━━━━━━━━━━━━━━━━━━\u001b[0m\u001b[37m\u001b[0m \u001b[1m0s\u001b[0m 1ms/step - loss: 0.0168 - val_loss: 0.0254\n",
      "Epoch 89/1000\n",
      "\u001b[1m57/57\u001b[0m \u001b[32m━━━━━━━━━━━━━━━━━━━━\u001b[0m\u001b[37m\u001b[0m \u001b[1m0s\u001b[0m 1ms/step - loss: 0.0163 - val_loss: 0.0252\n",
      "Epoch 90/1000\n",
      "\u001b[1m57/57\u001b[0m \u001b[32m━━━━━━━━━━━━━━━━━━━━\u001b[0m\u001b[37m\u001b[0m \u001b[1m0s\u001b[0m 1ms/step - loss: 0.0151 - val_loss: 0.0250\n",
      "Epoch 91/1000\n",
      "\u001b[1m57/57\u001b[0m \u001b[32m━━━━━━━━━━━━━━━━━━━━\u001b[0m\u001b[37m\u001b[0m \u001b[1m0s\u001b[0m 1ms/step - loss: 0.0165 - val_loss: 0.0248\n",
      "Epoch 92/1000\n",
      "\u001b[1m57/57\u001b[0m \u001b[32m━━━━━━━━━━━━━━━━━━━━\u001b[0m\u001b[37m\u001b[0m \u001b[1m0s\u001b[0m 1ms/step - loss: 0.0160 - val_loss: 0.0245\n",
      "Epoch 93/1000\n",
      "\u001b[1m57/57\u001b[0m \u001b[32m━━━━━━━━━━━━━━━━━━━━\u001b[0m\u001b[37m\u001b[0m \u001b[1m0s\u001b[0m 1ms/step - loss: 0.0160 - val_loss: 0.0243\n",
      "Epoch 94/1000\n",
      "\u001b[1m57/57\u001b[0m \u001b[32m━━━━━━━━━━━━━━━━━━━━\u001b[0m\u001b[37m\u001b[0m \u001b[1m0s\u001b[0m 1ms/step - loss: 0.0152 - val_loss: 0.0240\n",
      "Epoch 95/1000\n",
      "\u001b[1m57/57\u001b[0m \u001b[32m━━━━━━━━━━━━━━━━━━━━\u001b[0m\u001b[37m\u001b[0m \u001b[1m0s\u001b[0m 1ms/step - loss: 0.0156 - val_loss: 0.0238\n",
      "Epoch 96/1000\n",
      "\u001b[1m57/57\u001b[0m \u001b[32m━━━━━━━━━━━━━━━━━━━━\u001b[0m\u001b[37m\u001b[0m \u001b[1m0s\u001b[0m 1ms/step - loss: 0.0141 - val_loss: 0.0235\n",
      "Epoch 97/1000\n",
      "\u001b[1m57/57\u001b[0m \u001b[32m━━━━━━━━━━━━━━━━━━━━\u001b[0m\u001b[37m\u001b[0m \u001b[1m0s\u001b[0m 1ms/step - loss: 0.0149 - val_loss: 0.0233\n",
      "Epoch 98/1000\n",
      "\u001b[1m57/57\u001b[0m \u001b[32m━━━━━━━━━━━━━━━━━━━━\u001b[0m\u001b[37m\u001b[0m \u001b[1m0s\u001b[0m 1ms/step - loss: 0.0146 - val_loss: 0.0230\n",
      "Epoch 99/1000\n",
      "\u001b[1m57/57\u001b[0m \u001b[32m━━━━━━━━━━━━━━━━━━━━\u001b[0m\u001b[37m\u001b[0m \u001b[1m0s\u001b[0m 1ms/step - loss: 0.0144 - val_loss: 0.0228\n",
      "Epoch 100/1000\n",
      "\u001b[1m57/57\u001b[0m \u001b[32m━━━━━━━━━━━━━━━━━━━━\u001b[0m\u001b[37m\u001b[0m \u001b[1m0s\u001b[0m 1ms/step - loss: 0.0140 - val_loss: 0.0225\n",
      "Epoch 101/1000\n",
      "\u001b[1m57/57\u001b[0m \u001b[32m━━━━━━━━━━━━━━━━━━━━\u001b[0m\u001b[37m\u001b[0m \u001b[1m0s\u001b[0m 1ms/step - loss: 0.0139 - val_loss: 0.0223\n",
      "Epoch 102/1000\n",
      "\u001b[1m57/57\u001b[0m \u001b[32m━━━━━━━━━━━━━━━━━━━━\u001b[0m\u001b[37m\u001b[0m \u001b[1m0s\u001b[0m 1ms/step - loss: 0.0137 - val_loss: 0.0220\n",
      "Epoch 103/1000\n",
      "\u001b[1m57/57\u001b[0m \u001b[32m━━━━━━━━━━━━━━━━━━━━\u001b[0m\u001b[37m\u001b[0m \u001b[1m0s\u001b[0m 1ms/step - loss: 0.0135 - val_loss: 0.0218\n",
      "Epoch 104/1000\n",
      "\u001b[1m57/57\u001b[0m \u001b[32m━━━━━━━━━━━━━━━━━━━━\u001b[0m\u001b[37m\u001b[0m \u001b[1m0s\u001b[0m 1ms/step - loss: 0.0130 - val_loss: 0.0215\n",
      "Epoch 105/1000\n",
      "\u001b[1m57/57\u001b[0m \u001b[32m━━━━━━━━━━━━━━━━━━━━\u001b[0m\u001b[37m\u001b[0m \u001b[1m0s\u001b[0m 1ms/step - loss: 0.0134 - val_loss: 0.0213\n",
      "Epoch 106/1000\n",
      "\u001b[1m57/57\u001b[0m \u001b[32m━━━━━━━━━━━━━━━━━━━━\u001b[0m\u001b[37m\u001b[0m \u001b[1m0s\u001b[0m 1ms/step - loss: 0.0135 - val_loss: 0.0210\n",
      "Epoch 107/1000\n",
      "\u001b[1m57/57\u001b[0m \u001b[32m━━━━━━━━━━━━━━━━━━━━\u001b[0m\u001b[37m\u001b[0m \u001b[1m0s\u001b[0m 1ms/step - loss: 0.0130 - val_loss: 0.0207\n",
      "Epoch 108/1000\n",
      "\u001b[1m57/57\u001b[0m \u001b[32m━━━━━━━━━━━━━━━━━━━━\u001b[0m\u001b[37m\u001b[0m \u001b[1m0s\u001b[0m 1ms/step - loss: 0.0127 - val_loss: 0.0205\n",
      "Epoch 109/1000\n",
      "\u001b[1m57/57\u001b[0m \u001b[32m━━━━━━━━━━━━━━━━━━━━\u001b[0m\u001b[37m\u001b[0m \u001b[1m0s\u001b[0m 1ms/step - loss: 0.0127 - val_loss: 0.0202\n",
      "Epoch 110/1000\n",
      "\u001b[1m57/57\u001b[0m \u001b[32m━━━━━━━━━━━━━━━━━━━━\u001b[0m\u001b[37m\u001b[0m \u001b[1m0s\u001b[0m 3ms/step - loss: 0.0119 - val_loss: 0.0200\n",
      "Epoch 111/1000\n",
      "\u001b[1m57/57\u001b[0m \u001b[32m━━━━━━━━━━━━━━━━━━━━\u001b[0m\u001b[37m\u001b[0m \u001b[1m0s\u001b[0m 2ms/step - loss: 0.0106 - val_loss: 0.0197\n",
      "Epoch 112/1000\n",
      "\u001b[1m57/57\u001b[0m \u001b[32m━━━━━━━━━━━━━━━━━━━━\u001b[0m\u001b[37m\u001b[0m \u001b[1m0s\u001b[0m 1ms/step - loss: 0.0120 - val_loss: 0.0195\n",
      "Epoch 113/1000\n",
      "\u001b[1m57/57\u001b[0m \u001b[32m━━━━━━━━━━━━━━━━━━━━\u001b[0m\u001b[37m\u001b[0m \u001b[1m0s\u001b[0m 1ms/step - loss: 0.0126 - val_loss: 0.0192\n",
      "Epoch 114/1000\n",
      "\u001b[1m57/57\u001b[0m \u001b[32m━━━━━━━━━━━━━━━━━━━━\u001b[0m\u001b[37m\u001b[0m \u001b[1m0s\u001b[0m 1ms/step - loss: 0.0110 - val_loss: 0.0190\n",
      "Epoch 115/1000\n",
      "\u001b[1m57/57\u001b[0m \u001b[32m━━━━━━━━━━━━━━━━━━━━\u001b[0m\u001b[37m\u001b[0m \u001b[1m0s\u001b[0m 1ms/step - loss: 0.0109 - val_loss: 0.0187\n",
      "Epoch 116/1000\n",
      "\u001b[1m57/57\u001b[0m \u001b[32m━━━━━━━━━━━━━━━━━━━━\u001b[0m\u001b[37m\u001b[0m \u001b[1m0s\u001b[0m 1ms/step - loss: 0.0106 - val_loss: 0.0185\n",
      "Epoch 117/1000\n",
      "\u001b[1m57/57\u001b[0m \u001b[32m━━━━━━━━━━━━━━━━━━━━\u001b[0m\u001b[37m\u001b[0m \u001b[1m0s\u001b[0m 1ms/step - loss: 0.0111 - val_loss: 0.0182\n",
      "Epoch 118/1000\n",
      "\u001b[1m57/57\u001b[0m \u001b[32m━━━━━━━━━━━━━━━━━━━━\u001b[0m\u001b[37m\u001b[0m \u001b[1m0s\u001b[0m 1ms/step - loss: 0.0103 - val_loss: 0.0180\n",
      "Epoch 119/1000\n",
      "\u001b[1m57/57\u001b[0m \u001b[32m━━━━━━━━━━━━━━━━━━━━\u001b[0m\u001b[37m\u001b[0m \u001b[1m0s\u001b[0m 1ms/step - loss: 0.0104 - val_loss: 0.0178\n",
      "Epoch 120/1000\n",
      "\u001b[1m57/57\u001b[0m \u001b[32m━━━━━━━━━━━━━━━━━━━━\u001b[0m\u001b[37m\u001b[0m \u001b[1m0s\u001b[0m 1ms/step - loss: 0.0101 - val_loss: 0.0175\n",
      "Epoch 121/1000\n",
      "\u001b[1m57/57\u001b[0m \u001b[32m━━━━━━━━━━━━━━━━━━━━\u001b[0m\u001b[37m\u001b[0m \u001b[1m0s\u001b[0m 1ms/step - loss: 0.0104 - val_loss: 0.0173\n",
      "Epoch 122/1000\n",
      "\u001b[1m57/57\u001b[0m \u001b[32m━━━━━━━━━━━━━━━━━━━━\u001b[0m\u001b[37m\u001b[0m \u001b[1m0s\u001b[0m 1ms/step - loss: 0.0099 - val_loss: 0.0171\n",
      "Epoch 123/1000\n",
      "\u001b[1m57/57\u001b[0m \u001b[32m━━━━━━━━━━━━━━━━━━━━\u001b[0m\u001b[37m\u001b[0m \u001b[1m0s\u001b[0m 1ms/step - loss: 0.0091 - val_loss: 0.0168\n",
      "Epoch 124/1000\n",
      "\u001b[1m57/57\u001b[0m \u001b[32m━━━━━━━━━━━━━━━━━━━━\u001b[0m\u001b[37m\u001b[0m \u001b[1m0s\u001b[0m 1ms/step - loss: 0.0091 - val_loss: 0.0166\n",
      "Epoch 125/1000\n",
      "\u001b[1m57/57\u001b[0m \u001b[32m━━━━━━━━━━━━━━━━━━━━\u001b[0m\u001b[37m\u001b[0m \u001b[1m0s\u001b[0m 1ms/step - loss: 0.0094 - val_loss: 0.0164\n",
      "Epoch 126/1000\n",
      "\u001b[1m57/57\u001b[0m \u001b[32m━━━━━━━━━━━━━━━━━━━━\u001b[0m\u001b[37m\u001b[0m \u001b[1m0s\u001b[0m 1ms/step - loss: 0.0099 - val_loss: 0.0162\n",
      "Epoch 127/1000\n",
      "\u001b[1m57/57\u001b[0m \u001b[32m━━━━━━━━━━━━━━━━━━━━\u001b[0m\u001b[37m\u001b[0m \u001b[1m0s\u001b[0m 1ms/step - loss: 0.0090 - val_loss: 0.0159\n",
      "Epoch 128/1000\n",
      "\u001b[1m57/57\u001b[0m \u001b[32m━━━━━━━━━━━━━━━━━━━━\u001b[0m\u001b[37m\u001b[0m \u001b[1m0s\u001b[0m 1ms/step - loss: 0.0091 - val_loss: 0.0157\n",
      "Epoch 129/1000\n",
      "\u001b[1m57/57\u001b[0m \u001b[32m━━━━━━━━━━━━━━━━━━━━\u001b[0m\u001b[37m\u001b[0m \u001b[1m0s\u001b[0m 1ms/step - loss: 0.0093 - val_loss: 0.0155\n",
      "Epoch 130/1000\n",
      "\u001b[1m57/57\u001b[0m \u001b[32m━━━━━━━━━━━━━━━━━━━━\u001b[0m\u001b[37m\u001b[0m \u001b[1m0s\u001b[0m 1ms/step - loss: 0.0083 - val_loss: 0.0153\n",
      "Epoch 131/1000\n",
      "\u001b[1m57/57\u001b[0m \u001b[32m━━━━━━━━━━━━━━━━━━━━\u001b[0m\u001b[37m\u001b[0m \u001b[1m0s\u001b[0m 1ms/step - loss: 0.0083 - val_loss: 0.0151\n",
      "Epoch 132/1000\n",
      "\u001b[1m57/57\u001b[0m \u001b[32m━━━━━━━━━━━━━━━━━━━━\u001b[0m\u001b[37m\u001b[0m \u001b[1m0s\u001b[0m 1ms/step - loss: 0.0083 - val_loss: 0.0149\n",
      "Epoch 133/1000\n",
      "\u001b[1m57/57\u001b[0m \u001b[32m━━━━━━━━━━━━━━━━━━━━\u001b[0m\u001b[37m\u001b[0m \u001b[1m0s\u001b[0m 1ms/step - loss: 0.0090 - val_loss: 0.0147\n",
      "Epoch 134/1000\n",
      "\u001b[1m57/57\u001b[0m \u001b[32m━━━━━━━━━━━━━━━━━━━━\u001b[0m\u001b[37m\u001b[0m \u001b[1m0s\u001b[0m 1ms/step - loss: 0.0080 - val_loss: 0.0145\n",
      "Epoch 135/1000\n",
      "\u001b[1m57/57\u001b[0m \u001b[32m━━━━━━━━━━━━━━━━━━━━\u001b[0m\u001b[37m\u001b[0m \u001b[1m0s\u001b[0m 1ms/step - loss: 0.0090 - val_loss: 0.0143\n",
      "Epoch 136/1000\n",
      "\u001b[1m57/57\u001b[0m \u001b[32m━━━━━━━━━━━━━━━━━━━━\u001b[0m\u001b[37m\u001b[0m \u001b[1m0s\u001b[0m 1ms/step - loss: 0.0085 - val_loss: 0.0141\n",
      "Epoch 137/1000\n",
      "\u001b[1m57/57\u001b[0m \u001b[32m━━━━━━━━━━━━━━━━━━━━\u001b[0m\u001b[37m\u001b[0m \u001b[1m0s\u001b[0m 1ms/step - loss: 0.0075 - val_loss: 0.0140\n",
      "Epoch 138/1000\n",
      "\u001b[1m57/57\u001b[0m \u001b[32m━━━━━━━━━━━━━━━━━━━━\u001b[0m\u001b[37m\u001b[0m \u001b[1m0s\u001b[0m 1ms/step - loss: 0.0071 - val_loss: 0.0138\n",
      "Epoch 139/1000\n",
      "\u001b[1m57/57\u001b[0m \u001b[32m━━━━━━━━━━━━━━━━━━━━\u001b[0m\u001b[37m\u001b[0m \u001b[1m0s\u001b[0m 1ms/step - loss: 0.0076 - val_loss: 0.0136\n",
      "Epoch 140/1000\n",
      "\u001b[1m57/57\u001b[0m \u001b[32m━━━━━━━━━━━━━━━━━━━━\u001b[0m\u001b[37m\u001b[0m \u001b[1m0s\u001b[0m 1ms/step - loss: 0.0070 - val_loss: 0.0135\n",
      "Epoch 141/1000\n",
      "\u001b[1m57/57\u001b[0m \u001b[32m━━━━━━━━━━━━━━━━━━━━\u001b[0m\u001b[37m\u001b[0m \u001b[1m0s\u001b[0m 1ms/step - loss: 0.0078 - val_loss: 0.0133\n",
      "Epoch 142/1000\n",
      "\u001b[1m57/57\u001b[0m \u001b[32m━━━━━━━━━━━━━━━━━━━━\u001b[0m\u001b[37m\u001b[0m \u001b[1m0s\u001b[0m 1ms/step - loss: 0.0075 - val_loss: 0.0131\n",
      "Epoch 143/1000\n",
      "\u001b[1m57/57\u001b[0m \u001b[32m━━━━━━━━━━━━━━━━━━━━\u001b[0m\u001b[37m\u001b[0m \u001b[1m0s\u001b[0m 1ms/step - loss: 0.0076 - val_loss: 0.0130\n",
      "Epoch 144/1000\n",
      "\u001b[1m57/57\u001b[0m \u001b[32m━━━━━━━━━━━━━━━━━━━━\u001b[0m\u001b[37m\u001b[0m \u001b[1m0s\u001b[0m 1ms/step - loss: 0.0072 - val_loss: 0.0128\n",
      "Epoch 145/1000\n",
      "\u001b[1m57/57\u001b[0m \u001b[32m━━━━━━━━━━━━━━━━━━━━\u001b[0m\u001b[37m\u001b[0m \u001b[1m0s\u001b[0m 1ms/step - loss: 0.0069 - val_loss: 0.0127\n",
      "Epoch 146/1000\n",
      "\u001b[1m57/57\u001b[0m \u001b[32m━━━━━━━━━━━━━━━━━━━━\u001b[0m\u001b[37m\u001b[0m \u001b[1m0s\u001b[0m 1ms/step - loss: 0.0068 - val_loss: 0.0126\n",
      "Epoch 147/1000\n",
      "\u001b[1m57/57\u001b[0m \u001b[32m━━━━━━━━━━━━━━━━━━━━\u001b[0m\u001b[37m\u001b[0m \u001b[1m0s\u001b[0m 1ms/step - loss: 0.0069 - val_loss: 0.0124\n",
      "Epoch 148/1000\n",
      "\u001b[1m57/57\u001b[0m \u001b[32m━━━━━━━━━━━━━━━━━━━━\u001b[0m\u001b[37m\u001b[0m \u001b[1m0s\u001b[0m 1ms/step - loss: 0.0075 - val_loss: 0.0123\n",
      "Epoch 149/1000\n",
      "\u001b[1m57/57\u001b[0m \u001b[32m━━━━━━━━━━━━━━━━━━━━\u001b[0m\u001b[37m\u001b[0m \u001b[1m0s\u001b[0m 1ms/step - loss: 0.0066 - val_loss: 0.0121\n",
      "Epoch 150/1000\n",
      "\u001b[1m57/57\u001b[0m \u001b[32m━━━━━━━━━━━━━━━━━━━━\u001b[0m\u001b[37m\u001b[0m \u001b[1m0s\u001b[0m 1ms/step - loss: 0.0063 - val_loss: 0.0120\n",
      "Epoch 151/1000\n",
      "\u001b[1m57/57\u001b[0m \u001b[32m━━━━━━━━━━━━━━━━━━━━\u001b[0m\u001b[37m\u001b[0m \u001b[1m0s\u001b[0m 1ms/step - loss: 0.0070 - val_loss: 0.0119\n",
      "Epoch 152/1000\n",
      "\u001b[1m57/57\u001b[0m \u001b[32m━━━━━━━━━━━━━━━━━━━━\u001b[0m\u001b[37m\u001b[0m \u001b[1m0s\u001b[0m 1ms/step - loss: 0.0065 - val_loss: 0.0118\n",
      "Epoch 153/1000\n",
      "\u001b[1m57/57\u001b[0m \u001b[32m━━━━━━━━━━━━━━━━━━━━\u001b[0m\u001b[37m\u001b[0m \u001b[1m0s\u001b[0m 1ms/step - loss: 0.0064 - val_loss: 0.0117\n",
      "Epoch 154/1000\n",
      "\u001b[1m57/57\u001b[0m \u001b[32m━━━━━━━━━━━━━━━━━━━━\u001b[0m\u001b[37m\u001b[0m \u001b[1m0s\u001b[0m 1ms/step - loss: 0.0063 - val_loss: 0.0115\n",
      "Epoch 155/1000\n",
      "\u001b[1m57/57\u001b[0m \u001b[32m━━━━━━━━━━━━━━━━━━━━\u001b[0m\u001b[37m\u001b[0m \u001b[1m0s\u001b[0m 1ms/step - loss: 0.0067 - val_loss: 0.0114\n",
      "Epoch 156/1000\n",
      "\u001b[1m57/57\u001b[0m \u001b[32m━━━━━━━━━━━━━━━━━━━━\u001b[0m\u001b[37m\u001b[0m \u001b[1m0s\u001b[0m 1ms/step - loss: 0.0067 - val_loss: 0.0114\n",
      "Epoch 157/1000\n",
      "\u001b[1m57/57\u001b[0m \u001b[32m━━━━━━━━━━━━━━━━━━━━\u001b[0m\u001b[37m\u001b[0m \u001b[1m0s\u001b[0m 1ms/step - loss: 0.0069 - val_loss: 0.0112\n",
      "Epoch 158/1000\n",
      "\u001b[1m57/57\u001b[0m \u001b[32m━━━━━━━━━━━━━━━━━━━━\u001b[0m\u001b[37m\u001b[0m \u001b[1m0s\u001b[0m 1ms/step - loss: 0.0058 - val_loss: 0.0111\n",
      "Epoch 159/1000\n",
      "\u001b[1m57/57\u001b[0m \u001b[32m━━━━━━━━━━━━━━━━━━━━\u001b[0m\u001b[37m\u001b[0m \u001b[1m0s\u001b[0m 1ms/step - loss: 0.0063 - val_loss: 0.0110\n",
      "Epoch 160/1000\n",
      "\u001b[1m57/57\u001b[0m \u001b[32m━━━━━━━━━━━━━━━━━━━━\u001b[0m\u001b[37m\u001b[0m \u001b[1m0s\u001b[0m 1ms/step - loss: 0.0055 - val_loss: 0.0110\n",
      "Epoch 161/1000\n",
      "\u001b[1m57/57\u001b[0m \u001b[32m━━━━━━━━━━━━━━━━━━━━\u001b[0m\u001b[37m\u001b[0m \u001b[1m0s\u001b[0m 1ms/step - loss: 0.0061 - val_loss: 0.0109\n",
      "Epoch 162/1000\n",
      "\u001b[1m57/57\u001b[0m \u001b[32m━━━━━━━━━━━━━━━━━━━━\u001b[0m\u001b[37m\u001b[0m \u001b[1m0s\u001b[0m 1ms/step - loss: 0.0062 - val_loss: 0.0108\n",
      "Epoch 163/1000\n",
      "\u001b[1m57/57\u001b[0m \u001b[32m━━━━━━━━━━━━━━━━━━━━\u001b[0m\u001b[37m\u001b[0m \u001b[1m0s\u001b[0m 1ms/step - loss: 0.0061 - val_loss: 0.0107\n",
      "Epoch 164/1000\n",
      "\u001b[1m57/57\u001b[0m \u001b[32m━━━━━━━━━━━━━━━━━━━━\u001b[0m\u001b[37m\u001b[0m \u001b[1m0s\u001b[0m 1ms/step - loss: 0.0058 - val_loss: 0.0106\n",
      "Epoch 165/1000\n",
      "\u001b[1m57/57\u001b[0m \u001b[32m━━━━━━━━━━━━━━━━━━━━\u001b[0m\u001b[37m\u001b[0m \u001b[1m0s\u001b[0m 1ms/step - loss: 0.0069 - val_loss: 0.0106\n",
      "Epoch 166/1000\n",
      "\u001b[1m57/57\u001b[0m \u001b[32m━━━━━━━━━━━━━━━━━━━━\u001b[0m\u001b[37m\u001b[0m \u001b[1m0s\u001b[0m 1ms/step - loss: 0.0058 - val_loss: 0.0105\n",
      "Epoch 167/1000\n",
      "\u001b[1m57/57\u001b[0m \u001b[32m━━━━━━━━━━━━━━━━━━━━\u001b[0m\u001b[37m\u001b[0m \u001b[1m0s\u001b[0m 1ms/step - loss: 0.0059 - val_loss: 0.0104\n",
      "Epoch 168/1000\n",
      "\u001b[1m57/57\u001b[0m \u001b[32m━━━━━━━━━━━━━━━━━━━━\u001b[0m\u001b[37m\u001b[0m \u001b[1m0s\u001b[0m 1ms/step - loss: 0.0056 - val_loss: 0.0104\n",
      "Epoch 169/1000\n",
      "\u001b[1m57/57\u001b[0m \u001b[32m━━━━━━━━━━━━━━━━━━━━\u001b[0m\u001b[37m\u001b[0m \u001b[1m0s\u001b[0m 1ms/step - loss: 0.0053 - val_loss: 0.0103\n",
      "Epoch 170/1000\n",
      "\u001b[1m57/57\u001b[0m \u001b[32m━━━━━━━━━━━━━━━━━━━━\u001b[0m\u001b[37m\u001b[0m \u001b[1m0s\u001b[0m 1ms/step - loss: 0.0065 - val_loss: 0.0103\n",
      "Epoch 171/1000\n",
      "\u001b[1m57/57\u001b[0m \u001b[32m━━━━━━━━━━━━━━━━━━━━\u001b[0m\u001b[37m\u001b[0m \u001b[1m0s\u001b[0m 1ms/step - loss: 0.0058 - val_loss: 0.0102\n",
      "Epoch 172/1000\n",
      "\u001b[1m57/57\u001b[0m \u001b[32m━━━━━━━━━━━━━━━━━━━━\u001b[0m\u001b[37m\u001b[0m \u001b[1m0s\u001b[0m 1ms/step - loss: 0.0060 - val_loss: 0.0101\n",
      "Epoch 173/1000\n",
      "\u001b[1m57/57\u001b[0m \u001b[32m━━━━━━━━━━━━━━━━━━━━\u001b[0m\u001b[37m\u001b[0m \u001b[1m0s\u001b[0m 1ms/step - loss: 0.0056 - val_loss: 0.0101\n",
      "Epoch 174/1000\n",
      "\u001b[1m57/57\u001b[0m \u001b[32m━━━━━━━━━━━━━━━━━━━━\u001b[0m\u001b[37m\u001b[0m \u001b[1m0s\u001b[0m 1ms/step - loss: 0.0057 - val_loss: 0.0100\n",
      "Epoch 175/1000\n",
      "\u001b[1m57/57\u001b[0m \u001b[32m━━━━━━━━━━━━━━━━━━━━\u001b[0m\u001b[37m\u001b[0m \u001b[1m0s\u001b[0m 1ms/step - loss: 0.0056 - val_loss: 0.0100\n",
      "Epoch 176/1000\n",
      "\u001b[1m57/57\u001b[0m \u001b[32m━━━━━━━━━━━━━━━━━━━━\u001b[0m\u001b[37m\u001b[0m \u001b[1m0s\u001b[0m 1ms/step - loss: 0.0060 - val_loss: 0.0099\n",
      "Epoch 177/1000\n",
      "\u001b[1m57/57\u001b[0m \u001b[32m━━━━━━━━━━━━━━━━━━━━\u001b[0m\u001b[37m\u001b[0m \u001b[1m0s\u001b[0m 1ms/step - loss: 0.0056 - val_loss: 0.0099\n",
      "Epoch 178/1000\n",
      "\u001b[1m57/57\u001b[0m \u001b[32m━━━━━━━━━━━━━━━━━━━━\u001b[0m\u001b[37m\u001b[0m \u001b[1m0s\u001b[0m 1ms/step - loss: 0.0053 - val_loss: 0.0099\n",
      "Epoch 179/1000\n",
      "\u001b[1m57/57\u001b[0m \u001b[32m━━━━━━━━━━━━━━━━━━━━\u001b[0m\u001b[37m\u001b[0m \u001b[1m0s\u001b[0m 1ms/step - loss: 0.0054 - val_loss: 0.0098\n",
      "Epoch 180/1000\n",
      "\u001b[1m57/57\u001b[0m \u001b[32m━━━━━━━━━━━━━━━━━━━━\u001b[0m\u001b[37m\u001b[0m \u001b[1m0s\u001b[0m 1ms/step - loss: 0.0056 - val_loss: 0.0098\n",
      "Epoch 181/1000\n",
      "\u001b[1m57/57\u001b[0m \u001b[32m━━━━━━━━━━━━━━━━━━━━\u001b[0m\u001b[37m\u001b[0m \u001b[1m0s\u001b[0m 1ms/step - loss: 0.0052 - val_loss: 0.0097\n",
      "Epoch 182/1000\n",
      "\u001b[1m57/57\u001b[0m \u001b[32m━━━━━━━━━━━━━━━━━━━━\u001b[0m\u001b[37m\u001b[0m \u001b[1m0s\u001b[0m 1ms/step - loss: 0.0059 - val_loss: 0.0097\n",
      "Epoch 183/1000\n",
      "\u001b[1m57/57\u001b[0m \u001b[32m━━━━━━━━━━━━━━━━━━━━\u001b[0m\u001b[37m\u001b[0m \u001b[1m0s\u001b[0m 1ms/step - loss: 0.0051 - val_loss: 0.0097\n",
      "Epoch 184/1000\n",
      "\u001b[1m57/57\u001b[0m \u001b[32m━━━━━━━━━━━━━━━━━━━━\u001b[0m\u001b[37m\u001b[0m \u001b[1m0s\u001b[0m 1ms/step - loss: 0.0054 - val_loss: 0.0096\n",
      "Epoch 185/1000\n",
      "\u001b[1m57/57\u001b[0m \u001b[32m━━━━━━━━━━━━━━━━━━━━\u001b[0m\u001b[37m\u001b[0m \u001b[1m0s\u001b[0m 1ms/step - loss: 0.0054 - val_loss: 0.0096\n",
      "Epoch 186/1000\n",
      "\u001b[1m57/57\u001b[0m \u001b[32m━━━━━━━━━━━━━━━━━━━━\u001b[0m\u001b[37m\u001b[0m \u001b[1m0s\u001b[0m 1ms/step - loss: 0.0051 - val_loss: 0.0096\n",
      "Epoch 187/1000\n",
      "\u001b[1m57/57\u001b[0m \u001b[32m━━━━━━━━━━━━━━━━━━━━\u001b[0m\u001b[37m\u001b[0m \u001b[1m0s\u001b[0m 1ms/step - loss: 0.0058 - val_loss: 0.0096\n",
      "Epoch 188/1000\n",
      "\u001b[1m57/57\u001b[0m \u001b[32m━━━━━━━━━━━━━━━━━━━━\u001b[0m\u001b[37m\u001b[0m \u001b[1m0s\u001b[0m 1ms/step - loss: 0.0054 - val_loss: 0.0095\n",
      "Epoch 189/1000\n",
      "\u001b[1m57/57\u001b[0m \u001b[32m━━━━━━━━━━━━━━━━━━━━\u001b[0m\u001b[37m\u001b[0m \u001b[1m0s\u001b[0m 1ms/step - loss: 0.0058 - val_loss: 0.0095\n",
      "Epoch 190/1000\n",
      "\u001b[1m57/57\u001b[0m \u001b[32m━━━━━━━━━━━━━━━━━━━━\u001b[0m\u001b[37m\u001b[0m \u001b[1m0s\u001b[0m 1ms/step - loss: 0.0047 - val_loss: 0.0095\n",
      "Epoch 191/1000\n",
      "\u001b[1m57/57\u001b[0m \u001b[32m━━━━━━━━━━━━━━━━━━━━\u001b[0m\u001b[37m\u001b[0m \u001b[1m0s\u001b[0m 1ms/step - loss: 0.0054 - val_loss: 0.0094\n",
      "Epoch 192/1000\n",
      "\u001b[1m57/57\u001b[0m \u001b[32m━━━━━━━━━━━━━━━━━━━━\u001b[0m\u001b[37m\u001b[0m \u001b[1m0s\u001b[0m 1ms/step - loss: 0.0050 - val_loss: 0.0094\n",
      "Epoch 193/1000\n",
      "\u001b[1m57/57\u001b[0m \u001b[32m━━━━━━━━━━━━━━━━━━━━\u001b[0m\u001b[37m\u001b[0m \u001b[1m0s\u001b[0m 1ms/step - loss: 0.0056 - val_loss: 0.0094\n",
      "Epoch 194/1000\n",
      "\u001b[1m57/57\u001b[0m \u001b[32m━━━━━━━━━━━━━━━━━━━━\u001b[0m\u001b[37m\u001b[0m \u001b[1m0s\u001b[0m 1ms/step - loss: 0.0048 - val_loss: 0.0094\n",
      "Epoch 195/1000\n",
      "\u001b[1m57/57\u001b[0m \u001b[32m━━━━━━━━━━━━━━━━━━━━\u001b[0m\u001b[37m\u001b[0m \u001b[1m0s\u001b[0m 1ms/step - loss: 0.0051 - val_loss: 0.0094\n",
      "Epoch 196/1000\n",
      "\u001b[1m57/57\u001b[0m \u001b[32m━━━━━━━━━━━━━━━━━━━━\u001b[0m\u001b[37m\u001b[0m \u001b[1m0s\u001b[0m 1ms/step - loss: 0.0051 - val_loss: 0.0094\n",
      "Epoch 197/1000\n",
      "\u001b[1m57/57\u001b[0m \u001b[32m━━━━━━━━━━━━━━━━━━━━\u001b[0m\u001b[37m\u001b[0m \u001b[1m0s\u001b[0m 1ms/step - loss: 0.0058 - val_loss: 0.0093\n",
      "Epoch 198/1000\n",
      "\u001b[1m57/57\u001b[0m \u001b[32m━━━━━━━━━━━━━━━━━━━━\u001b[0m\u001b[37m\u001b[0m \u001b[1m0s\u001b[0m 1ms/step - loss: 0.0049 - val_loss: 0.0093\n",
      "Epoch 199/1000\n",
      "\u001b[1m57/57\u001b[0m \u001b[32m━━━━━━━━━━━━━━━━━━━━\u001b[0m\u001b[37m\u001b[0m \u001b[1m0s\u001b[0m 1ms/step - loss: 0.0052 - val_loss: 0.0093\n",
      "Epoch 200/1000\n",
      "\u001b[1m57/57\u001b[0m \u001b[32m━━━━━━━━━━━━━━━━━━━━\u001b[0m\u001b[37m\u001b[0m \u001b[1m0s\u001b[0m 1ms/step - loss: 0.0047 - val_loss: 0.0093\n",
      "Epoch 201/1000\n",
      "\u001b[1m57/57\u001b[0m \u001b[32m━━━━━━━━━━━━━━━━━━━━\u001b[0m\u001b[37m\u001b[0m \u001b[1m0s\u001b[0m 1ms/step - loss: 0.0057 - val_loss: 0.0093\n",
      "Epoch 202/1000\n",
      "\u001b[1m57/57\u001b[0m \u001b[32m━━━━━━━━━━━━━━━━━━━━\u001b[0m\u001b[37m\u001b[0m \u001b[1m0s\u001b[0m 1ms/step - loss: 0.0047 - val_loss: 0.0093\n",
      "Epoch 203/1000\n",
      "\u001b[1m57/57\u001b[0m \u001b[32m━━━━━━━━━━━━━━━━━━━━\u001b[0m\u001b[37m\u001b[0m \u001b[1m0s\u001b[0m 1ms/step - loss: 0.0048 - val_loss: 0.0093\n",
      "Epoch 204/1000\n",
      "\u001b[1m57/57\u001b[0m \u001b[32m━━━━━━━━━━━━━━━━━━━━\u001b[0m\u001b[37m\u001b[0m \u001b[1m0s\u001b[0m 1ms/step - loss: 0.0053 - val_loss: 0.0092\n",
      "Epoch 205/1000\n",
      "\u001b[1m57/57\u001b[0m \u001b[32m━━━━━━━━━━━━━━━━━━━━\u001b[0m\u001b[37m\u001b[0m \u001b[1m0s\u001b[0m 1ms/step - loss: 0.0051 - val_loss: 0.0092\n",
      "Epoch 206/1000\n",
      "\u001b[1m57/57\u001b[0m \u001b[32m━━━━━━━━━━━━━━━━━━━━\u001b[0m\u001b[37m\u001b[0m \u001b[1m0s\u001b[0m 1ms/step - loss: 0.0047 - val_loss: 0.0092\n",
      "Epoch 207/1000\n",
      "\u001b[1m57/57\u001b[0m \u001b[32m━━━━━━━━━━━━━━━━━━━━\u001b[0m\u001b[37m\u001b[0m \u001b[1m0s\u001b[0m 1ms/step - loss: 0.0049 - val_loss: 0.0092\n",
      "Epoch 208/1000\n",
      "\u001b[1m57/57\u001b[0m \u001b[32m━━━━━━━━━━━━━━━━━━━━\u001b[0m\u001b[37m\u001b[0m \u001b[1m0s\u001b[0m 1ms/step - loss: 0.0051 - val_loss: 0.0092\n",
      "Epoch 209/1000\n",
      "\u001b[1m57/57\u001b[0m \u001b[32m━━━━━━━━━━━━━━━━━━━━\u001b[0m\u001b[37m\u001b[0m \u001b[1m0s\u001b[0m 1ms/step - loss: 0.0052 - val_loss: 0.0092\n",
      "Epoch 210/1000\n",
      "\u001b[1m57/57\u001b[0m \u001b[32m━━━━━━━━━━━━━━━━━━━━\u001b[0m\u001b[37m\u001b[0m \u001b[1m0s\u001b[0m 1ms/step - loss: 0.0045 - val_loss: 0.0092\n",
      "Epoch 211/1000\n",
      "\u001b[1m57/57\u001b[0m \u001b[32m━━━━━━━━━━━━━━━━━━━━\u001b[0m\u001b[37m\u001b[0m \u001b[1m0s\u001b[0m 1ms/step - loss: 0.0052 - val_loss: 0.0092\n",
      "Epoch 212/1000\n",
      "\u001b[1m57/57\u001b[0m \u001b[32m━━━━━━━━━━━━━━━━━━━━\u001b[0m\u001b[37m\u001b[0m \u001b[1m0s\u001b[0m 1ms/step - loss: 0.0053 - val_loss: 0.0092\n",
      "Epoch 213/1000\n",
      "\u001b[1m57/57\u001b[0m \u001b[32m━━━━━━━━━━━━━━━━━━━━\u001b[0m\u001b[37m\u001b[0m \u001b[1m0s\u001b[0m 1ms/step - loss: 0.0056 - val_loss: 0.0092\n",
      "Epoch 214/1000\n",
      "\u001b[1m57/57\u001b[0m \u001b[32m━━━━━━━━━━━━━━━━━━━━\u001b[0m\u001b[37m\u001b[0m \u001b[1m0s\u001b[0m 1ms/step - loss: 0.0048 - val_loss: 0.0092\n",
      "Epoch 215/1000\n",
      "\u001b[1m57/57\u001b[0m \u001b[32m━━━━━━━━━━━━━━━━━━━━\u001b[0m\u001b[37m\u001b[0m \u001b[1m0s\u001b[0m 1ms/step - loss: 0.0047 - val_loss: 0.0092\n",
      "Epoch 216/1000\n",
      "\u001b[1m57/57\u001b[0m \u001b[32m━━━━━━━━━━━━━━━━━━━━\u001b[0m\u001b[37m\u001b[0m \u001b[1m0s\u001b[0m 1ms/step - loss: 0.0042 - val_loss: 0.0092\n",
      "Epoch 217/1000\n",
      "\u001b[1m57/57\u001b[0m \u001b[32m━━━━━━━━━━━━━━━━━━━━\u001b[0m\u001b[37m\u001b[0m \u001b[1m0s\u001b[0m 1ms/step - loss: 0.0052 - val_loss: 0.0092\n",
      "Epoch 218/1000\n",
      "\u001b[1m57/57\u001b[0m \u001b[32m━━━━━━━━━━━━━━━━━━━━\u001b[0m\u001b[37m\u001b[0m \u001b[1m0s\u001b[0m 1ms/step - loss: 0.0051 - val_loss: 0.0092\n",
      "Epoch 219/1000\n",
      "\u001b[1m57/57\u001b[0m \u001b[32m━━━━━━━━━━━━━━━━━━━━\u001b[0m\u001b[37m\u001b[0m \u001b[1m0s\u001b[0m 1ms/step - loss: 0.0054 - val_loss: 0.0092\n",
      "Epoch 220/1000\n",
      "\u001b[1m57/57\u001b[0m \u001b[32m━━━━━━━━━━━━━━━━━━━━\u001b[0m\u001b[37m\u001b[0m \u001b[1m0s\u001b[0m 1ms/step - loss: 0.0048 - val_loss: 0.0092\n",
      "Epoch 221/1000\n",
      "\u001b[1m57/57\u001b[0m \u001b[32m━━━━━━━━━━━━━━━━━━━━\u001b[0m\u001b[37m\u001b[0m \u001b[1m0s\u001b[0m 1ms/step - loss: 0.0046 - val_loss: 0.0092\n",
      "Epoch 222/1000\n",
      "\u001b[1m57/57\u001b[0m \u001b[32m━━━━━━━━━━━━━━━━━━━━\u001b[0m\u001b[37m\u001b[0m \u001b[1m0s\u001b[0m 1ms/step - loss: 0.0044 - val_loss: 0.0092\n",
      "Epoch 223/1000\n",
      "\u001b[1m57/57\u001b[0m \u001b[32m━━━━━━━━━━━━━━━━━━━━\u001b[0m\u001b[37m\u001b[0m \u001b[1m0s\u001b[0m 1ms/step - loss: 0.0044 - val_loss: 0.0092\n",
      "Epoch 224/1000\n",
      "\u001b[1m57/57\u001b[0m \u001b[32m━━━━━━━━━━━━━━━━━━━━\u001b[0m\u001b[37m\u001b[0m \u001b[1m0s\u001b[0m 1ms/step - loss: 0.0052 - val_loss: 0.0092\n",
      "Epoch 225/1000\n",
      "\u001b[1m57/57\u001b[0m \u001b[32m━━━━━━━━━━━━━━━━━━━━\u001b[0m\u001b[37m\u001b[0m \u001b[1m0s\u001b[0m 1ms/step - loss: 0.0053 - val_loss: 0.0092\n",
      "Epoch 226/1000\n",
      "\u001b[1m57/57\u001b[0m \u001b[32m━━━━━━━━━━━━━━━━━━━━\u001b[0m\u001b[37m\u001b[0m \u001b[1m0s\u001b[0m 1ms/step - loss: 0.0042 - val_loss: 0.0092\n",
      "Epoch 227/1000\n",
      "\u001b[1m57/57\u001b[0m \u001b[32m━━━━━━━━━━━━━━━━━━━━\u001b[0m\u001b[37m\u001b[0m \u001b[1m0s\u001b[0m 1ms/step - loss: 0.0051 - val_loss: 0.0092\n",
      "Epoch 228/1000\n",
      "\u001b[1m57/57\u001b[0m \u001b[32m━━━━━━━━━━━━━━━━━━━━\u001b[0m\u001b[37m\u001b[0m \u001b[1m0s\u001b[0m 1ms/step - loss: 0.0047 - val_loss: 0.0092\n",
      "Epoch 229/1000\n",
      "\u001b[1m57/57\u001b[0m \u001b[32m━━━━━━━━━━━━━━━━━━━━\u001b[0m\u001b[37m\u001b[0m \u001b[1m0s\u001b[0m 1ms/step - loss: 0.0047 - val_loss: 0.0092\n",
      "Epoch 230/1000\n",
      "\u001b[1m57/57\u001b[0m \u001b[32m━━━━━━━━━━━━━━━━━━━━\u001b[0m\u001b[37m\u001b[0m \u001b[1m0s\u001b[0m 1ms/step - loss: 0.0039 - val_loss: 0.0092\n",
      "Epoch 231/1000\n",
      "\u001b[1m57/57\u001b[0m \u001b[32m━━━━━━━━━━━━━━━━━━━━\u001b[0m\u001b[37m\u001b[0m \u001b[1m0s\u001b[0m 1ms/step - loss: 0.0046 - val_loss: 0.0092\n",
      "Epoch 232/1000\n",
      "\u001b[1m57/57\u001b[0m \u001b[32m━━━━━━━━━━━━━━━━━━━━\u001b[0m\u001b[37m\u001b[0m \u001b[1m0s\u001b[0m 1ms/step - loss: 0.0042 - val_loss: 0.0092\n",
      "Epoch 233/1000\n",
      "\u001b[1m57/57\u001b[0m \u001b[32m━━━━━━━━━━━━━━━━━━━━\u001b[0m\u001b[37m\u001b[0m \u001b[1m0s\u001b[0m 1ms/step - loss: 0.0050 - val_loss: 0.0092\n",
      "Epoch 234/1000\n",
      "\u001b[1m57/57\u001b[0m \u001b[32m━━━━━━━━━━━━━━━━━━━━\u001b[0m\u001b[37m\u001b[0m \u001b[1m0s\u001b[0m 1ms/step - loss: 0.0041 - val_loss: 0.0092\n",
      "Epoch 235/1000\n",
      "\u001b[1m57/57\u001b[0m \u001b[32m━━━━━━━━━━━━━━━━━━━━\u001b[0m\u001b[37m\u001b[0m \u001b[1m0s\u001b[0m 1ms/step - loss: 0.0044 - val_loss: 0.0092\n",
      "Epoch 236/1000\n",
      "\u001b[1m57/57\u001b[0m \u001b[32m━━━━━━━━━━━━━━━━━━━━\u001b[0m\u001b[37m\u001b[0m \u001b[1m0s\u001b[0m 1ms/step - loss: 0.0045 - val_loss: 0.0092\n",
      "Epoch 237/1000\n",
      "\u001b[1m57/57\u001b[0m \u001b[32m━━━━━━━━━━━━━━━━━━━━\u001b[0m\u001b[37m\u001b[0m \u001b[1m0s\u001b[0m 1ms/step - loss: 0.0042 - val_loss: 0.0092\n",
      "Epoch 238/1000\n",
      "\u001b[1m57/57\u001b[0m \u001b[32m━━━━━━━━━━━━━━━━━━━━\u001b[0m\u001b[37m\u001b[0m \u001b[1m0s\u001b[0m 1ms/step - loss: 0.0045 - val_loss: 0.0092\n",
      "Epoch 239/1000\n",
      "\u001b[1m57/57\u001b[0m \u001b[32m━━━━━━━━━━━━━━━━━━━━\u001b[0m\u001b[37m\u001b[0m \u001b[1m0s\u001b[0m 1ms/step - loss: 0.0048 - val_loss: 0.0092\n",
      "Epoch 240/1000\n",
      "\u001b[1m57/57\u001b[0m \u001b[32m━━━━━━━━━━━━━━━━━━━━\u001b[0m\u001b[37m\u001b[0m \u001b[1m0s\u001b[0m 1ms/step - loss: 0.0046 - val_loss: 0.0092\n",
      "Epoch 241/1000\n",
      "\u001b[1m57/57\u001b[0m \u001b[32m━━━━━━━━━━━━━━━━━━━━\u001b[0m\u001b[37m\u001b[0m \u001b[1m0s\u001b[0m 1ms/step - loss: 0.0040 - val_loss: 0.0092\n",
      "Epoch 242/1000\n",
      "\u001b[1m57/57\u001b[0m \u001b[32m━━━━━━━━━━━━━━━━━━━━\u001b[0m\u001b[37m\u001b[0m \u001b[1m0s\u001b[0m 1ms/step - loss: 0.0046 - val_loss: 0.0092\n",
      "Epoch 243/1000\n",
      "\u001b[1m57/57\u001b[0m \u001b[32m━━━━━━━━━━━━━━━━━━━━\u001b[0m\u001b[37m\u001b[0m \u001b[1m0s\u001b[0m 2ms/step - loss: 0.0049 - val_loss: 0.0092\n",
      "Epoch 244/1000\n",
      "\u001b[1m57/57\u001b[0m \u001b[32m━━━━━━━━━━━━━━━━━━━━\u001b[0m\u001b[37m\u001b[0m \u001b[1m0s\u001b[0m 2ms/step - loss: 0.0042 - val_loss: 0.0092\n",
      "Epoch 245/1000\n",
      "\u001b[1m57/57\u001b[0m \u001b[32m━━━━━━━━━━━━━━━━━━━━\u001b[0m\u001b[37m\u001b[0m \u001b[1m0s\u001b[0m 2ms/step - loss: 0.0044 - val_loss: 0.0092\n",
      "Epoch 246/1000\n",
      "\u001b[1m57/57\u001b[0m \u001b[32m━━━━━━━━━━━━━━━━━━━━\u001b[0m\u001b[37m\u001b[0m \u001b[1m0s\u001b[0m 1ms/step - loss: 0.0046 - val_loss: 0.0092\n",
      "Epoch 247/1000\n",
      "\u001b[1m57/57\u001b[0m \u001b[32m━━━━━━━━━━━━━━━━━━━━\u001b[0m\u001b[37m\u001b[0m \u001b[1m0s\u001b[0m 1ms/step - loss: 0.0049 - val_loss: 0.0092\n",
      "Epoch 248/1000\n",
      "\u001b[1m57/57\u001b[0m \u001b[32m━━━━━━━━━━━━━━━━━━━━\u001b[0m\u001b[37m\u001b[0m \u001b[1m0s\u001b[0m 1ms/step - loss: 0.0041 - val_loss: 0.0092\n",
      "Epoch 249/1000\n",
      "\u001b[1m57/57\u001b[0m \u001b[32m━━━━━━━━━━━━━━━━━━━━\u001b[0m\u001b[37m\u001b[0m \u001b[1m0s\u001b[0m 1ms/step - loss: 0.0051 - val_loss: 0.0092\n",
      "Epoch 250/1000\n",
      "\u001b[1m57/57\u001b[0m \u001b[32m━━━━━━━━━━━━━━━━━━━━\u001b[0m\u001b[37m\u001b[0m \u001b[1m0s\u001b[0m 1ms/step - loss: 0.0044 - val_loss: 0.0092\n",
      "Epoch 251/1000\n",
      "\u001b[1m57/57\u001b[0m \u001b[32m━━━━━━━━━━━━━━━━━━━━\u001b[0m\u001b[37m\u001b[0m \u001b[1m0s\u001b[0m 1ms/step - loss: 0.0044 - val_loss: 0.0092\n",
      "Epoch 252/1000\n",
      "\u001b[1m57/57\u001b[0m \u001b[32m━━━━━━━━━━━━━━━━━━━━\u001b[0m\u001b[37m\u001b[0m \u001b[1m0s\u001b[0m 1ms/step - loss: 0.0048 - val_loss: 0.0092\n",
      "Epoch 253/1000\n",
      "\u001b[1m57/57\u001b[0m \u001b[32m━━━━━━━━━━━━━━━━━━━━\u001b[0m\u001b[37m\u001b[0m \u001b[1m0s\u001b[0m 1ms/step - loss: 0.0047 - val_loss: 0.0093\n",
      "Epoch 254/1000\n",
      "\u001b[1m57/57\u001b[0m \u001b[32m━━━━━━━━━━━━━━━━━━━━\u001b[0m\u001b[37m\u001b[0m \u001b[1m0s\u001b[0m 1ms/step - loss: 0.0042 - val_loss: 0.0092\n",
      "Epoch 255/1000\n",
      "\u001b[1m57/57\u001b[0m \u001b[32m━━━━━━━━━━━━━━━━━━━━\u001b[0m\u001b[37m\u001b[0m \u001b[1m0s\u001b[0m 1ms/step - loss: 0.0047 - val_loss: 0.0092\n",
      "Epoch 256/1000\n",
      "\u001b[1m57/57\u001b[0m \u001b[32m━━━━━━━━━━━━━━━━━━━━\u001b[0m\u001b[37m\u001b[0m \u001b[1m0s\u001b[0m 1ms/step - loss: 0.0049 - val_loss: 0.0093\n",
      "Epoch 257/1000\n",
      "\u001b[1m57/57\u001b[0m \u001b[32m━━━━━━━━━━━━━━━━━━━━\u001b[0m\u001b[37m\u001b[0m \u001b[1m0s\u001b[0m 1ms/step - loss: 0.0046 - val_loss: 0.0093\n",
      "Epoch 258/1000\n",
      "\u001b[1m57/57\u001b[0m \u001b[32m━━━━━━━━━━━━━━━━━━━━\u001b[0m\u001b[37m\u001b[0m \u001b[1m0s\u001b[0m 1ms/step - loss: 0.0043 - val_loss: 0.0093\n",
      "Epoch 259/1000\n",
      "\u001b[1m57/57\u001b[0m \u001b[32m━━━━━━━━━━━━━━━━━━━━\u001b[0m\u001b[37m\u001b[0m \u001b[1m0s\u001b[0m 1ms/step - loss: 0.0049 - val_loss: 0.0093\n",
      "Epoch 260/1000\n",
      "\u001b[1m57/57\u001b[0m \u001b[32m━━━━━━━━━━━━━━━━━━━━\u001b[0m\u001b[37m\u001b[0m \u001b[1m0s\u001b[0m 1ms/step - loss: 0.0041 - val_loss: 0.0093\n",
      "Epoch 261/1000\n",
      "\u001b[1m57/57\u001b[0m \u001b[32m━━━━━━━━━━━━━━━━━━━━\u001b[0m\u001b[37m\u001b[0m \u001b[1m0s\u001b[0m 1ms/step - loss: 0.0047 - val_loss: 0.0093\n"
     ]
    }
   ],
   "source": [
    "\n",
    "# Dodanie callbacka EarlyStopping\n",
    "early_stopping = EarlyStopping(\n",
    "    monitor='val_loss',       # Monitorowana metryka\n",
    "    patience=32,               # Liczba epok bez poprawy przed zatrzymaniem\n",
    "    restore_best_weights=True # Przywrócenie najlepszych wag modelu\n",
    ")\n",
    "\n",
    "# Trenowanie modelu z walidacją i EarlyStopping\n",
    "history = model.fit(\n",
    "    [train_users, train_movies],\n",
    "    train_distances,\n",
    "    batch_size=32,\n",
    "    validation_data=([test_users, test_movies], test_distances),\n",
    "    epochs=1000,\n",
    "    verbose=1,\n",
    "    callbacks=[early_stopping]\n",
    ")"
   ]
  },
  {
   "cell_type": "markdown",
   "id": "4f74c82f-2cf5-4a9f-b293-2b4e0971b370",
   "metadata": {},
   "source": [
    "# Wizualizacja\n",
    "Wizualizacja wyników w przestrzeni 3D, zmniejszenie wymiarowości osadzeń za pomocą PCA"
   ]
  },
  {
   "cell_type": "code",
   "execution_count": 637,
   "id": "d98542e7-0feb-4097-b47e-f5da90c450b6",
   "metadata": {},
   "outputs": [
    {
     "data": {
      "application/vnd.plotly.v1+json": {
       "config": {
        "plotlyServerURL": "https://plot.ly"
       },
       "data": [
        {
         "marker": {
          "color": "red",
          "size": 8
         },
         "mode": "markers+text",
         "name": "Users",
         "text": [
          "Paweł Cz.",
          "Jakub P.",
          "Mateusz W.",
          "Kacper S.",
          "Jakub M.",
          "Karol Sz.",
          "Kacper P.",
          "Andrzej E.",
          "Michał J."
         ],
         "type": "scatter3d",
         "x": [
          -0.0051809209398925304,
          0.09582175314426422,
          0.04855460673570633,
          -0.1111607626080513,
          -0.03276696801185608,
          0.007966587319970131,
          -0.1277119666337967,
          0.1637745052576065,
          -0.039296891540288925
         ],
         "y": [
          -0.12864619493484497,
          0.021917713806033134,
          0.08225587755441666,
          -0.009308801032602787,
          -0.10588281601667404,
          0.11525309085845947,
          -0.02624681033194065,
          -0.06669744849205017,
          0.11735536903142929
         ],
         "z": [
          0.052724968641996384,
          -0.021222781389951706,
          0.03630087524652481,
          0.06329279392957687,
          0.07961204648017883,
          0.08036275207996368,
          -0.16297975182533264,
          -0.08026598393917084,
          -0.047824885696172714
         ]
        },
        {
         "hoverinfo": "text",
         "marker": {
          "color": "blue",
          "opacity": 0.6,
          "size": 6
         },
         "mode": "markers",
         "name": "Movies",
         "text": [
          "1670",
          "Jak sprzedawać dragi w sieci (szybko)",
          "Samce Alfa",
          "Lucyfer",
          "Niebieskoki Samuraj",
          "Barbarzyńcy",
          "Para Idealna",
          "Rojst",
          "Polowanie na Czerwony Padziernik",
          "Rick & Morty",
          "The Big Bang Theory",
          "Braveheart",
          "The Expanse",
          "Miasteczko South Park",
          "Kraina Lodu",
          "Dziennik Bridget Jones",
          "Kapitan Ameryka: Wojna bohaterów",
          "Avengers: Czas Ultrona",
          "Terminator 2",
          "Planeta Singli",
          "List do M.",
          "List do M. 2",
          "Forrest Gump",
          "Ex Machina",
          "Gran Torino",
          "Cicha Noc",
          "Battleship: Bitwa o Ziemię",
          "Narodziny Gwiazdy",
          "Kapitan Phillips",
          "Grand Budapest Hotel",
          "Wyjazd integracyjny",
          "John Wick",
          "Narcos",
          "Terminal",
          "Ona",
          "Whiplash",
          "Diabeł ubiera się u Prady",
          "La Casa De Papel",
          "Peaky Blinders",
          "Contratiempo",
          "La Cara Oculta",
          "The Order",
          "Sabrina",
          "Wikingowie",
          "50 twarzy greya",
          "Family guy",
          "Avengers: Wojna bez granic",
          "Annabelle",
          "Obecnoć 3",
          "Stranger Things",
          "Obcy kontra predator 2",
          "Kaleidoskop",
          "Terrifier 3",
          "Hellboy: Wzgórza nawiedzonych",
          "Naruto",
          "Bogdan Boner: Egzorcysta",
          "Szczęki",
          "Meg",
          "Deadpool 1",
          "Twister",
          "Venom 1",
          "Terrifier 1",
          "Terrifier 2",
          "Kosmiczni kowboje",
          "W lesie dzi nie zanie nikt 1",
          "Witcher",
          "Piraci z karaibów: Klštwa czarnej perły",
          "Spiderman: Daleko od domu",
          "9 11",
          "Obcy: Rommulus",
          "The 100",
          "Squid Game",
          "W lesie dzi nie zanie nikt 2",
          "She-Hulk",
          "Sex education",
          "Avatar",
          "Avengers: Koniec gry",
          "Toy story 4",
          "Shadow hunters",
          "Odlot",
          "Autopsja Jane Doe",
          "Gra o Tron",
          "Dark",
          "Substancja",
          "Batman (2022)",
          "Breaking Bad",
          "The Walking Dead",
          "Gambit Królowej",
          "Euforia",
          "Ozark",
          "American Horror Story",
          "Kapitan Bomba",
          "Brickleberry",
          "Westworld",
          "Matrix",
          "13 Posterunek",
          "Trzynacie Powodów",
          "lepnšc od wiateł",
          "Arcane",
          "Zmierzch",
          "Cast Away: Poza wiatem",
          "Szkoła dla Elity",
          "Prison Break",
          "Meg 2",
          "Outer Banks",
          "Baywatch: Słoneczny patrol",
          "Furioza",
          "Powrót do przyszłosci",
          "Bad Boy",
          "Harry Potter",
          "Pszczelarz",
          "Deadpool & Wolverine",
          "Road House",
          "Dama",
          "Godzilla i Kong: Nowe imperium",
          "Hobbit",
          "Fallout",
          "gwiezdne wojny",
          "Aquaman",
          "Wilk z Wall Street",
          "Zjawa",
          "Django",
          "Obecnoć",
          "Noc oczyszczenia",
          "Piła X",
          "Puchatek: Krew i miód",
          "Jestem legendš",
          "M3GAN",
          "klucz do wiecznosci",
          "X-men",
          "Deadpool",
          "Czerwona nota",
          "Bodyguard Zawodowiec",
          "R.I.P.D. Agenci z zawiatów",
          "need for speed",
          "Pick of destiny",
          "Harry Potter: Komnata",
          "Interstellar",
          "Outlander",
          "Botoks",
          "Piękny umysł",
          "Więzień labiryntu",
          "How high",
          "Igrzyska mierci",
          "Buntownik z wyboru",
          "Kicia kocia",
          "Mr. Robot",
          "Droga do eldorado",
          "Shrek",
          "Władca Piercieni",
          "Wiedmin",
          "Kevin sam w domu",
          "złap mnie, jeżeli potrafisz",
          "Więzień labiryntu 2",
          "Kac Vegas",
          "black mirror",
          "Lucy",
          "Wycig z czasem",
          "WHO AM I. Możesz być kim chcesz",
          "Lighthouse",
          "Gra tajemnic",
          "Polaroid",
          "Cisza",
          "Las samobójców",
          "Lekarstwo na życie",
          "kod niemiertelnoci",
          "czas na miłoć",
          "Kung-fu panda",
          "deadpool",
          "Eternals",
          "Ptaki nocy",
          "Sz?gun",
          "Iluzjonista",
          "Incepcja",
          "Wyspa tajemnic",
          "Jestem Bogiem",
          "Ja, robot",
          "Sherlock",
          "Loki",
          "Strażnicy Galaktyki",
          "Strażnicy Galaktyki 2",
          "Nie patrz w górę",
          "Na noże",
          "Przeznaczenie",
          "Gladiator",
          "Thor: Ragnarok",
          "Shadowhunters",
          "wiat według Kiepskich",
          "Oppenheimer",
          "Napoleon",
          "Exodus: Bogowie i królowie",
          "Czarnobyl",
          "Ostatni taniec",
          "Czarne lustro",
          "Sukcesja",
          "The Boys",
          "Rozdzielenie",
          "Dom z papieru",
          "The Mandalorian",
          "Yellowstone",
          "Niebieskooki samuraj",
          "The Last of Us",
          "Gwiezdne wojny: Andor",
          "Boso przez wiat",
          "Pingwin",
          "Czarny ptak",
          "Ród smoka",
          "Silos",
          "Stamtšd",
          "Skazani na Shawshank",
          "Zielona Mila",
          "Ojciec chrzestny",
          "Lot nad kukułczym gniazdem",
          "Władca Piercieni: Powrót króla",
          "Diuna: Częć druga",
          "Mroczny Rycerz",
          "Trzynacie powodów",
          "Parasite",
          "Bękarty Wojny",
          "Wołyń",
          "Joker",
          "Ruchomy zamek Hauru",
          "Maska",
          "Wall-e",
          "Co w duszy gra",
          "Wyspa Psów",
          "Spirited away: W karinie Bogów",
          "Full metal Jacket",
          "Smoleńsk",
          "Iluzja",
          "Lnienie",
          "Mechaniczna Pomarańcza",
          "Efekt Motyla",
          "Bliskie spotkanie trzeciego stopnia",
          "Paterson",
          "Panaceum",
          "Melancholia",
          "Dzika droga",
          "Anon",
          "Birdman",
          "Uciekaj",
          "Ostatnia rodzina",
          "Schyłek dnia",
          "Lobster",
          "Gra",
          "Opiekunka",
          "Oczy szeroko zamknięte",
          "Boyhood",
          "Bogowie",
          "Szeregowiec Ryan",
          "Ojciec Chrzestny"
         ],
         "type": "scatter3d",
         "x": [
          -0.007158316671848297,
          -0.006396127864718437,
          -0.01050616055727005,
          -0.01751456782221794,
          -0.04370734840631485,
          -0.0418454147875309,
          0.07263149321079254,
          0.07170140743255615,
          0.01643993705511093,
          0.01447850652039051,
          -0.051850590854883194,
          0.0562775656580925,
          -0.08494743704795837,
          0.013951757922768593,
          0.03763815760612488,
          -0.022290799766778946,
          -0.056546296924352646,
          -0.012414470314979553,
          0.0028449706733226776,
          -0.060211483389139175,
          -0.007914253510534763,
          0.028969287872314453,
          -0.004143500700592995,
          -0.002020624466240406,
          -0.07413007318973541,
          0.11377938091754913,
          0.0039399005472660065,
          0.021873876452445984,
          0.022079940885305405,
          -0.0274791456758976,
          0.06767962127923965,
          -0.005692998878657818,
          -0.00882231816649437,
          -0.03187892958521843,
          -0.008457648567855358,
          0.020258231088519096,
          0.008204512298107147,
          -0.02368750050663948,
          0.015057665295898914,
          -0.01005755364894867,
          -0.009499426931142807,
          0.07732047140598297,
          0.004612363409250975,
          0.039990831166505814,
          -0.052670419216156006,
          0.02836371585726738,
          -0.11022788286209106,
          0.05361516773700714,
          -0.009496664628386497,
          -0.13601802289485931,
          -0.050076402723789215,
          0.047002967447042465,
          -0.02499600499868393,
          -0.050068750977516174,
          -0.02043652907013893,
          0.033663056790828705,
          -0.0013946108520030975,
          0.048716939985752106,
          0.03526128828525543,
          -0.03975757956504822,
          0.13548296689987183,
          0.11216756701469421,
          -0.06278416514396667,
          0.1465555727481842,
          -0.1115134060382843,
          -0.039522092789411545,
          -0.0014655031263828278,
          0.036935918033123016,
          -0.15908490121364594,
          0.17381839454174042,
          -0.141091451048851,
          0.026764322072267532,
          -0.05959382280707359,
          0.18734540045261383,
          0.015798337757587433,
          -0.0632089227437973,
          0.07858560979366302,
          -0.05833057686686516,
          0.03282978758215904,
          0.09876775741577148,
          -0.04422135278582573,
          0.0644180178642273,
          -0.05299842357635498,
          -0.05910749360918999,
          0.010341698303818703,
          0.020021380856633186,
          -0.032736651599407196,
          0.04052525386214256,
          -0.012950669974088669,
          -0.017734026536345482,
          -0.03606994077563286,
          -0.03848729655146599,
          0.05970710888504982,
          -0.053031112998723984,
          -0.03967898339033127,
          -0.07537056505680084,
          -0.039727382361888885,
          0.07323899865150452,
          0.024504821747541428,
          0.04276895150542259,
          -0.044453028589487076,
          0.08427886664867401,
          -0.04198572412133217,
          -0.02667158469557762,
          -0.0014121141284704208,
          0.1259089708328247,
          -0.13069219887256622,
          -0.15317772328853607,
          0.12734273076057434,
          -0.015276387333869934,
          -0.012670207768678665,
          -0.008110104128718376,
          0.016585074365139008,
          -0.018972788006067276,
          0.036002807319164276,
          -0.027190204709768295,
          -0.0539701022207737,
          -0.007774725556373596,
          -0.011456543579697609,
          -0.005418887361884117,
          0.03367646411061287,
          0.08243158459663391,
          -0.07986472547054291,
          0.04249102249741554,
          0.026405464857816696,
          0.0302058644592762,
          -0.05472991243004799,
          -0.012458786368370056,
          -0.02582426369190216,
          -0.00855918601155281,
          -0.0018261140212416649,
          0.006530821323394775,
          -0.044817231595516205,
          0.019085129722952843,
          0.02251850627362728,
          -0.009813494980335236,
          0.007322348654270172,
          -0.01972188986837864,
          0.0014161914587020874,
          0.006702461279928684,
          -0.04036838188767433,
          0.06426841765642166,
          0.01428358256816864,
          0.0065753273665905,
          0.06657938659191132,
          0.034240178763866425,
          -0.008460648357868195,
          -0.0171164833009243,
          -0.04822264984250069,
          0.019151989370584488,
          0.11000646650791168,
          0.1532403975725174,
          0.002592936158180237,
          -0.037745919078588486,
          0.04315071925520897,
          -0.015278484672307968,
          -0.10484199225902557,
          -0.11586816608905792,
          -0.0699845403432846,
          -0.038896456360816956,
          -0.08661599457263947,
          0.1388304978609085,
          -0.07162849605083466,
          -0.0025459900498390198,
          -0.05267731472849846,
          -0.09588707983493805,
          -0.12266883254051208,
          -0.06264248490333557,
          -0.036477621644735336,
          0.11705748736858368,
          0.11078451573848724,
          -0.004650541581213474,
          -0.10804061591625214,
          -0.0019328882917761803,
          -0.04046311601996422,
          -0.09306234121322632,
          -0.15400832891464233,
          -0.036766428500413895,
          -0.05163382366299629,
          -0.12785662710666656,
          -0.11409159004688263,
          -0.08370549976825714,
          -0.118112713098526,
          -0.1311502456665039,
          0.005525965243577957,
          0.0049372524954378605,
          -0.07730421423912048,
          -0.14539563655853271,
          0.026151327416300774,
          -0.07068465650081635,
          -0.0035945363342761993,
          0.11366207897663116,
          0.20118051767349243,
          0.008990773931145668,
          0.17995122075080872,
          -0.019232869148254395,
          0.14904996752738953,
          0.04694543778896332,
          -0.02438269555568695,
          -0.04416568949818611,
          0.10235118865966797,
          -0.028219427913427353,
          0.029498472809791565,
          0.06216807663440704,
          0.022645140066742897,
          0.12529031932353973,
          0.15931189060211182,
          0.07596558332443237,
          0.09718294441699982,
          -0.03101886436343193,
          -0.053032029420137405,
          0.15794947743415833,
          0.19686520099639893,
          0.21828915178775787,
          0.15981176495552063,
          0.07778076827526093,
          -0.0833168774843216,
          -0.0033416636288166046,
          0.006353179924190044,
          0.16461630165576935,
          0.049788784235715866,
          -0.06606234610080719,
          -0.013415474444627762,
          -0.06571593880653381,
          -0.046906810253858566,
          -0.0695391595363617,
          -0.04119459539651871,
          -0.009035546332597733,
          0.05401680991053581,
          0.05420328676700592,
          -0.019127290695905685,
          0.025093920528888702,
          -0.08318156003952026,
          -0.02915426716208458,
          -0.04678305611014366,
          -0.04394953325390816,
          -0.010863970965147018,
          -0.07821980118751526,
          0.009546106681227684,
          -0.04206358268857002,
          0.008605570532381535,
          -0.09146550297737122,
          -0.03174838796257973,
          -0.050025951117277145,
          -0.030418310314416885,
          -0.01004389114677906,
          -0.0028945384547114372,
          0.003396127372980118,
          -0.009541880339384079,
          0.0024836715310811996,
          -0.008436698466539383
         ],
         "y": [
          -0.00977962464094162,
          -0.019491184502840042,
          -0.21409395337104797,
          -0.2599361836910248,
          -0.20531269907951355,
          -0.13267183303833008,
          -0.2031019628047943,
          -0.16633522510528564,
          0.010769464075565338,
          -0.009474441409111023,
          -0.13642257452011108,
          -0.25768718123435974,
          -0.18498051166534424,
          0.027558449655771255,
          -0.11884965747594833,
          -0.10450153797864914,
          -0.1023879274725914,
          0.049173466861248016,
          -0.07459938526153564,
          -0.1565464287996292,
          -0.021956458687782288,
          0.07940787822008133,
          -0.02549336850643158,
          0.02677847445011139,
          -0.15648740530014038,
          -0.17360353469848633,
          0.13417556881904602,
          0.07413040101528168,
          -0.19573193788528442,
          0.006939604878425598,
          -0.050351738929748535,
          0.006659321486949921,
          -0.026942426338791847,
          -0.16239166259765625,
          -0.0482657365500927,
          -0.05924688279628754,
          -0.2052115797996521,
          -0.15604478120803833,
          -0.01494608074426651,
          -0.07290472090244293,
          -0.10763129591941833,
          0.005598872900009155,
          -0.019900649785995483,
          -0.1014518067240715,
          -0.22328126430511475,
          -0.012766776606440544,
          -0.060121990740299225,
          -0.028822876513004303,
          -0.010969253256917,
          -0.04078495502471924,
          -0.07599802315235138,
          -0.07074896991252899,
          -0.03428950905799866,
          -0.08070044219493866,
          -0.011835172772407532,
          0.025337249040603638,
          0.026265643537044525,
          -0.06784402579069138,
          -0.004997409880161285,
          -0.0451991893351078,
          -0.07164132595062256,
          -0.03523367643356323,
          -0.05574452504515648,
          -0.038190003484487534,
          -0.016898315399885178,
          -0.007965151220560074,
          -0.025721168145537376,
          -0.14637908339500427,
          -0.021908031776547432,
          -0.05061107128858566,
          0.050024889409542084,
          0.0010718442499637604,
          -0.03923817723989487,
          -0.033457621932029724,
          -0.013393480330705643,
          -0.05943658575415611,
          0.021757911890745163,
          -0.0504130944609642,
          0.021500006318092346,
          0.02244364470243454,
          -0.05496669560670853,
          -0.07682309299707413,
          -0.020005665719509125,
          -0.13443729281425476,
          0.020092468708753586,
          -0.028798028826713562,
          -0.06467227637767792,
          -0.011647230014204979,
          0.011581048369407654,
          -0.03313659131526947,
          -0.08997456729412079,
          0.02966105192899704,
          -0.031650345772504807,
          -0.02351747453212738,
          -0.06648264080286026,
          0.03058556467294693,
          -0.11668156832456589,
          0.21234527230262756,
          -0.033101048320531845,
          -0.10745760798454285,
          -0.126755952835083,
          -0.14924736320972443,
          -0.014760993421077728,
          -0.049210671335458755,
          -0.020022306591272354,
          -0.003250814974308014,
          -0.036813147366046906,
          -0.08407233655452728,
          -0.024477241560816765,
          -0.06963546574115753,
          -0.008307503536343575,
          -0.02508053556084633,
          -0.1625531017780304,
          -0.09486617892980576,
          -0.03211250901222229,
          -0.07544148713350296,
          0.018134795129299164,
          -0.17925050854682922,
          0.02480323612689972,
          -0.059873633086681366,
          -0.17631739377975464,
          -0.08945679664611816,
          -0.20139288902282715,
          -0.16509926319122314,
          0.04759687930345535,
          0.08650926500558853,
          -0.22163185477256775,
          -0.02188863605260849,
          -0.2718906104564667,
          -0.02579086273908615,
          0.005663994699716568,
          -0.0922204852104187,
          -0.1913406252861023,
          -0.04794735834002495,
          -0.09584418684244156,
          0.061562106013298035,
          0.1438877284526825,
          -0.02644433081150055,
          0.0009355619549751282,
          -0.017752211540937424,
          0.27153459191322327,
          0.18822214007377625,
          0.07939598709344864,
          0.06773317605257034,
          0.035133540630340576,
          0.07312584668397903,
          0.03314600884914398,
          0.0162380188703537,
          -0.0509951077401638,
          0.15114188194274902,
          0.049344561994075775,
          0.015171300619840622,
          0.019623152911663055,
          -0.022475235164165497,
          0.10490544885396957,
          -0.01202632300555706,
          -0.04114679619669914,
          -0.05462131276726723,
          -0.0912097617983818,
          -0.009801434352993965,
          -0.05480996519327164,
          0.0027852430939674377,
          0.008497826755046844,
          -0.12677770853042603,
          -0.0958753302693367,
          -0.04616675525903702,
          -0.02477949857711792,
          -0.029537459835410118,
          -0.028002560138702393,
          0.00434083491563797,
          -0.0552750825881958,
          -0.01982775144279003,
          -0.05747745931148529,
          -0.007913343608379364,
          -0.002783477306365967,
          -0.11778055876493454,
          -0.04197145253419876,
          0.007313158363103867,
          -0.02801891788840294,
          -0.052162282168865204,
          -0.06249669939279556,
          -0.028568588197231293,
          -0.07581035792827606,
          -0.015830643475055695,
          -0.0015809480100870132,
          -0.027655750513076782,
          -0.03735021874308586,
          -0.07105349749326706,
          -0.02172672189772129,
          -0.02551243267953396,
          -0.10959736257791519,
          -0.12620292603969574,
          -0.2187432050704956,
          -0.07756355404853821,
          -0.09215468913316727,
          0.004463113844394684,
          -0.16195827722549438,
          -0.05254368111491203,
          -0.009789422154426575,
          -0.002042662352323532,
          -0.07398781925439835,
          -0.0026864297688007355,
          0.015569344162940979,
          -0.1829528510570526,
          -0.008396023884415627,
          -0.07968052476644516,
          -0.10264427214860916,
          -0.08127753436565399,
          -0.09832920879125595,
          0.019664380699396133,
          0.037069566547870636,
          -0.10431484133005142,
          -0.18227845430374146,
          -0.05148104950785637,
          -0.09509027749300003,
          -0.09989980608224869,
          -0.12149951606988907,
          -0.0019122418016195297,
          -0.031612880527973175,
          -0.19958075881004333,
          -0.02399364486336708,
          -0.046867430210113525,
          0.10434015840291977,
          0.08643942326307297,
          0.10163121670484543,
          0.10402246564626694,
          0.010365761816501617,
          0.011702071875333786,
          0.21747463941574097,
          -0.16003859043121338,
          0.12004273384809494,
          0.20960426330566406,
          0.046537816524505615,
          -0.07196258008480072,
          0.0875755324959755,
          -0.1253463327884674,
          -0.010193292051553726,
          -0.2223002016544342,
          0.05294037610292435,
          0.11378299444913864,
          0.006451230496168137,
          0.10928758233785629,
          0.022792331874370575,
          0.02993065118789673,
          0.049871303141117096,
          -0.0625174343585968,
          -0.011696305125951767,
          0.0748521238565445,
          -0.010400902479887009,
          0.09244544059038162,
          0.23847150802612305
         ],
         "z": [
          -0.016621075570583344,
          -0.04556506499648094,
          0.01824149489402771,
          -0.2423454225063324,
          -0.07170146703720093,
          -0.02760981395840645,
          0.09533146023750305,
          -0.06041913479566574,
          -0.06546822190284729,
          0.013673245906829834,
          -0.08824565261602402,
          0.002663753926753998,
          -0.05848151072859764,
          -0.051819924265146255,
          -0.12670406699180603,
          -0.13144022226333618,
          -0.17203623056411743,
          -0.14907148480415344,
          -0.09584404528141022,
          0.016374841332435608,
          -0.049755096435546875,
          -0.14078973233699799,
          -0.010606445372104645,
          -0.10823202133178711,
          -0.15757057070732117,
          -0.05127280205488205,
          -0.12516218423843384,
          -0.09790681302547455,
          0.059091098606586456,
          -0.0028382614254951477,
          -0.2311011701822281,
          -0.04164505749940872,
          -0.009214591234922409,
          -0.011860392987728119,
          -0.034377045929431915,
          -0.03084382973611355,
          0.009280577301979065,
          -0.020584024488925934,
          -0.023049864917993546,
          -0.02186989039182663,
          0.006903849542140961,
          -0.04668821394443512,
          -0.05232870951294899,
          -0.09785175323486328,
          -0.4021059274673462,
          -0.019009314477443695,
          -0.08180278539657593,
          -0.10978694260120392,
          -0.06052302569150925,
          -0.015607420355081558,
          -0.0636705756187439,
          -0.0994868129491806,
          -0.05165079981088638,
          -0.1290147304534912,
          -0.009943310171365738,
          0.029225744307041168,
          -0.10489200055599213,
          -0.05400682985782623,
          -0.023635365068912506,
          -0.05476199835538864,
          -0.1909879595041275,
          -0.16715824604034424,
          -0.05706105753779411,
          -0.1440909206867218,
          -0.04066679999232292,
          -0.02842949703335762,
          -0.056452784687280655,
          -0.028622347861528397,
          0.02814849466085434,
          -0.011987656354904175,
          0.013112351298332214,
          0.133621484041214,
          -0.09425118565559387,
          0.06734757125377655,
          -0.04292881116271019,
          -0.13541653752326965,
          -0.12057245522737503,
          -0.046268075704574585,
          -0.13255354762077332,
          -0.09252763539552689,
          -0.05197949707508087,
          -0.10163387656211853,
          -0.019978083670139313,
          -0.10397204011678696,
          -0.12498542666435242,
          -0.015110019594430923,
          -0.06794053316116333,
          0.0007954314351081848,
          -0.007571570575237274,
          -0.04012421891093254,
          -0.06146718189120293,
          0.036998242139816284,
          -0.06942857056856155,
          -0.02504497393965721,
          -0.06792813539505005,
          -0.16364037990570068,
          -0.10771964490413666,
          0.0788554698228836,
          0.016994282603263855,
          -0.02466856688261032,
          -0.0676642432808876,
          -0.1721489429473877,
          -0.012541502714157104,
          -0.11836142092943192,
          -0.05312950909137726,
          0.11647278070449829,
          -0.01107468456029892,
          -0.017100706696510315,
          -0.09001660346984863,
          -0.024204373359680176,
          -0.08402980864048004,
          -0.04477256163954735,
          0.01593470573425293,
          0.0059050023555755615,
          -0.09595969319343567,
          0.0020858682692050934,
          -0.05095645785331726,
          -0.08875135332345963,
          -0.08682206273078918,
          -0.019916050136089325,
          -0.02835966646671295,
          -0.06837587058544159,
          -0.020196471363306046,
          -0.009656127542257309,
          -0.13343596458435059,
          -0.10716623812913895,
          0.08755746483802795,
          -0.04101000726222992,
          0.15578576922416687,
          -0.045642558485269547,
          -0.06728267669677734,
          0.001312214881181717,
          -0.027748197317123413,
          0.0056706443428993225,
          -0.03406304493546486,
          -0.005797330290079117,
          0.05498915910720825,
          -0.05967068672180176,
          -0.02001030743122101,
          -0.07605107128620148,
          -0.02313985303044319,
          0.01190754771232605,
          0.01991112530231476,
          -0.016853496432304382,
          -0.04604407399892807,
          0.03225800395011902,
          -0.013912700116634369,
          -0.011152353137731552,
          -0.10909110307693481,
          -0.037712227553129196,
          0.13914351165294647,
          -0.00299883633852005,
          0.007854737341403961,
          -0.12169613689184189,
          0.015458375215530396,
          -0.02998492121696472,
          -0.15408861637115479,
          -0.14821618795394897,
          -0.2772749364376068,
          -0.09952192008495331,
          -0.252019464969635,
          0.12060625851154327,
          -0.16807712614536285,
          -0.018309302628040314,
          -0.26134181022644043,
          -0.25400257110595703,
          -0.2608044147491455,
          -0.11549891531467438,
          -0.07433599978685379,
          0.03428658843040466,
          0.043064184486866,
          0.0057044923305511475,
          -0.12056031823158264,
          -0.014946866780519485,
          -0.03541562333703041,
          -0.15840056538581848,
          -0.19531814754009247,
          -0.039429277181625366,
          -0.08519549667835236,
          -0.2598409056663513,
          -0.27640748023986816,
          -0.2933099865913391,
          -0.24983082711696625,
          -0.20101292431354523,
          0.004193931818008423,
          -0.020523734390735626,
          -0.15223555266857147,
          -0.2224680483341217,
          -0.03974904119968414,
          -0.09424301236867905,
          -0.18655310571193695,
          -0.21319790184497833,
          -0.08486942946910858,
          -0.04838503897190094,
          -0.16027608513832092,
          0.05509661138057709,
          -0.16836243867874146,
          -0.07775367051362991,
          -0.02270270138978958,
          -0.008765053004026413,
          -0.16063964366912842,
          -0.013612117618322372,
          -0.05778587609529495,
          -0.08480681478977203,
          -0.06572147458791733,
          -0.12457422912120819,
          -0.12163300812244415,
          -0.13576844334602356,
          -0.08754231780767441,
          -0.010349821299314499,
          -0.009963937103748322,
          -0.09664373099803925,
          -0.07461723685264587,
          -0.08013898879289627,
          -0.17056182026863098,
          -0.17887820303440094,
          -0.06887803971767426,
          0.0041270628571510315,
          -0.037592485547065735,
          -0.0009032003581523895,
          -0.053080037236213684,
          -0.09779801964759827,
          -0.05912307649850845,
          -0.1556447148323059,
          -0.12989690899848938,
          -0.21459455788135529,
          -0.06224895641207695,
          -0.04930146038532257,
          -0.1491653025150299,
          -0.06331193447113037,
          -0.14976391196250916,
          -0.10282090306282043,
          -0.08027705550193787,
          -0.2032974511384964,
          -0.08270257711410522,
          -0.15155094861984253,
          -0.055847764015197754,
          0.09715956449508667,
          -0.08088575303554535,
          -0.09369133412837982,
          -0.18340721726417542,
          -0.13870227336883545,
          -0.07999878376722336,
          -0.11076170206069946,
          -0.08964814245700836,
          -0.03644658252596855,
          -0.08027464896440506,
          -0.10347709059715271,
          -0.05254204571247101,
          -0.12453297525644302,
          -0.10183371603488922
         ]
        }
       ],
       "layout": {
        "autosize": true,
        "scene": {
         "aspectmode": "auto",
         "aspectratio": {
          "x": 0.7773527387088843,
          "y": 1.1194014691411145,
          "z": 1.149200997993576
         },
         "camera": {
          "center": {
           "x": -0.13418740525301093,
           "y": 0.10253742476175443,
           "z": 0.11971342670023938
          },
          "eye": {
           "x": -1.4212231863277496,
           "y": -0.5243126746018437,
           "z": 0.0902189996181555
          },
          "projection": {
           "type": "perspective"
          },
          "up": {
           "x": 0,
           "y": 0,
           "z": 1
          }
         },
         "xaxis": {
          "title": {
           "text": "Wymiar 1"
          },
          "type": "linear"
         },
         "yaxis": {
          "title": {
           "text": "Wymiar 2"
          },
          "type": "linear"
         },
         "zaxis": {
          "title": {
           "text": "Wymiar 3"
          },
          "type": "linear"
         }
        },
        "showlegend": true,
        "template": {
         "data": {
          "bar": [
           {
            "error_x": {
             "color": "#2a3f5f"
            },
            "error_y": {
             "color": "#2a3f5f"
            },
            "marker": {
             "line": {
              "color": "#E5ECF6",
              "width": 0.5
             },
             "pattern": {
              "fillmode": "overlay",
              "size": 10,
              "solidity": 0.2
             }
            },
            "type": "bar"
           }
          ],
          "barpolar": [
           {
            "marker": {
             "line": {
              "color": "#E5ECF6",
              "width": 0.5
             },
             "pattern": {
              "fillmode": "overlay",
              "size": 10,
              "solidity": 0.2
             }
            },
            "type": "barpolar"
           }
          ],
          "carpet": [
           {
            "aaxis": {
             "endlinecolor": "#2a3f5f",
             "gridcolor": "white",
             "linecolor": "white",
             "minorgridcolor": "white",
             "startlinecolor": "#2a3f5f"
            },
            "baxis": {
             "endlinecolor": "#2a3f5f",
             "gridcolor": "white",
             "linecolor": "white",
             "minorgridcolor": "white",
             "startlinecolor": "#2a3f5f"
            },
            "type": "carpet"
           }
          ],
          "choropleth": [
           {
            "colorbar": {
             "outlinewidth": 0,
             "ticks": ""
            },
            "type": "choropleth"
           }
          ],
          "contour": [
           {
            "colorbar": {
             "outlinewidth": 0,
             "ticks": ""
            },
            "colorscale": [
             [
              0,
              "#0d0887"
             ],
             [
              0.1111111111111111,
              "#46039f"
             ],
             [
              0.2222222222222222,
              "#7201a8"
             ],
             [
              0.3333333333333333,
              "#9c179e"
             ],
             [
              0.4444444444444444,
              "#bd3786"
             ],
             [
              0.5555555555555556,
              "#d8576b"
             ],
             [
              0.6666666666666666,
              "#ed7953"
             ],
             [
              0.7777777777777778,
              "#fb9f3a"
             ],
             [
              0.8888888888888888,
              "#fdca26"
             ],
             [
              1,
              "#f0f921"
             ]
            ],
            "type": "contour"
           }
          ],
          "contourcarpet": [
           {
            "colorbar": {
             "outlinewidth": 0,
             "ticks": ""
            },
            "type": "contourcarpet"
           }
          ],
          "heatmap": [
           {
            "colorbar": {
             "outlinewidth": 0,
             "ticks": ""
            },
            "colorscale": [
             [
              0,
              "#0d0887"
             ],
             [
              0.1111111111111111,
              "#46039f"
             ],
             [
              0.2222222222222222,
              "#7201a8"
             ],
             [
              0.3333333333333333,
              "#9c179e"
             ],
             [
              0.4444444444444444,
              "#bd3786"
             ],
             [
              0.5555555555555556,
              "#d8576b"
             ],
             [
              0.6666666666666666,
              "#ed7953"
             ],
             [
              0.7777777777777778,
              "#fb9f3a"
             ],
             [
              0.8888888888888888,
              "#fdca26"
             ],
             [
              1,
              "#f0f921"
             ]
            ],
            "type": "heatmap"
           }
          ],
          "heatmapgl": [
           {
            "colorbar": {
             "outlinewidth": 0,
             "ticks": ""
            },
            "colorscale": [
             [
              0,
              "#0d0887"
             ],
             [
              0.1111111111111111,
              "#46039f"
             ],
             [
              0.2222222222222222,
              "#7201a8"
             ],
             [
              0.3333333333333333,
              "#9c179e"
             ],
             [
              0.4444444444444444,
              "#bd3786"
             ],
             [
              0.5555555555555556,
              "#d8576b"
             ],
             [
              0.6666666666666666,
              "#ed7953"
             ],
             [
              0.7777777777777778,
              "#fb9f3a"
             ],
             [
              0.8888888888888888,
              "#fdca26"
             ],
             [
              1,
              "#f0f921"
             ]
            ],
            "type": "heatmapgl"
           }
          ],
          "histogram": [
           {
            "marker": {
             "pattern": {
              "fillmode": "overlay",
              "size": 10,
              "solidity": 0.2
             }
            },
            "type": "histogram"
           }
          ],
          "histogram2d": [
           {
            "colorbar": {
             "outlinewidth": 0,
             "ticks": ""
            },
            "colorscale": [
             [
              0,
              "#0d0887"
             ],
             [
              0.1111111111111111,
              "#46039f"
             ],
             [
              0.2222222222222222,
              "#7201a8"
             ],
             [
              0.3333333333333333,
              "#9c179e"
             ],
             [
              0.4444444444444444,
              "#bd3786"
             ],
             [
              0.5555555555555556,
              "#d8576b"
             ],
             [
              0.6666666666666666,
              "#ed7953"
             ],
             [
              0.7777777777777778,
              "#fb9f3a"
             ],
             [
              0.8888888888888888,
              "#fdca26"
             ],
             [
              1,
              "#f0f921"
             ]
            ],
            "type": "histogram2d"
           }
          ],
          "histogram2dcontour": [
           {
            "colorbar": {
             "outlinewidth": 0,
             "ticks": ""
            },
            "colorscale": [
             [
              0,
              "#0d0887"
             ],
             [
              0.1111111111111111,
              "#46039f"
             ],
             [
              0.2222222222222222,
              "#7201a8"
             ],
             [
              0.3333333333333333,
              "#9c179e"
             ],
             [
              0.4444444444444444,
              "#bd3786"
             ],
             [
              0.5555555555555556,
              "#d8576b"
             ],
             [
              0.6666666666666666,
              "#ed7953"
             ],
             [
              0.7777777777777778,
              "#fb9f3a"
             ],
             [
              0.8888888888888888,
              "#fdca26"
             ],
             [
              1,
              "#f0f921"
             ]
            ],
            "type": "histogram2dcontour"
           }
          ],
          "mesh3d": [
           {
            "colorbar": {
             "outlinewidth": 0,
             "ticks": ""
            },
            "type": "mesh3d"
           }
          ],
          "parcoords": [
           {
            "line": {
             "colorbar": {
              "outlinewidth": 0,
              "ticks": ""
             }
            },
            "type": "parcoords"
           }
          ],
          "pie": [
           {
            "automargin": true,
            "type": "pie"
           }
          ],
          "scatter": [
           {
            "fillpattern": {
             "fillmode": "overlay",
             "size": 10,
             "solidity": 0.2
            },
            "type": "scatter"
           }
          ],
          "scatter3d": [
           {
            "line": {
             "colorbar": {
              "outlinewidth": 0,
              "ticks": ""
             }
            },
            "marker": {
             "colorbar": {
              "outlinewidth": 0,
              "ticks": ""
             }
            },
            "type": "scatter3d"
           }
          ],
          "scattercarpet": [
           {
            "marker": {
             "colorbar": {
              "outlinewidth": 0,
              "ticks": ""
             }
            },
            "type": "scattercarpet"
           }
          ],
          "scattergeo": [
           {
            "marker": {
             "colorbar": {
              "outlinewidth": 0,
              "ticks": ""
             }
            },
            "type": "scattergeo"
           }
          ],
          "scattergl": [
           {
            "marker": {
             "colorbar": {
              "outlinewidth": 0,
              "ticks": ""
             }
            },
            "type": "scattergl"
           }
          ],
          "scattermapbox": [
           {
            "marker": {
             "colorbar": {
              "outlinewidth": 0,
              "ticks": ""
             }
            },
            "type": "scattermapbox"
           }
          ],
          "scatterpolar": [
           {
            "marker": {
             "colorbar": {
              "outlinewidth": 0,
              "ticks": ""
             }
            },
            "type": "scatterpolar"
           }
          ],
          "scatterpolargl": [
           {
            "marker": {
             "colorbar": {
              "outlinewidth": 0,
              "ticks": ""
             }
            },
            "type": "scatterpolargl"
           }
          ],
          "scatterternary": [
           {
            "marker": {
             "colorbar": {
              "outlinewidth": 0,
              "ticks": ""
             }
            },
            "type": "scatterternary"
           }
          ],
          "surface": [
           {
            "colorbar": {
             "outlinewidth": 0,
             "ticks": ""
            },
            "colorscale": [
             [
              0,
              "#0d0887"
             ],
             [
              0.1111111111111111,
              "#46039f"
             ],
             [
              0.2222222222222222,
              "#7201a8"
             ],
             [
              0.3333333333333333,
              "#9c179e"
             ],
             [
              0.4444444444444444,
              "#bd3786"
             ],
             [
              0.5555555555555556,
              "#d8576b"
             ],
             [
              0.6666666666666666,
              "#ed7953"
             ],
             [
              0.7777777777777778,
              "#fb9f3a"
             ],
             [
              0.8888888888888888,
              "#fdca26"
             ],
             [
              1,
              "#f0f921"
             ]
            ],
            "type": "surface"
           }
          ],
          "table": [
           {
            "cells": {
             "fill": {
              "color": "#EBF0F8"
             },
             "line": {
              "color": "white"
             }
            },
            "header": {
             "fill": {
              "color": "#C8D4E3"
             },
             "line": {
              "color": "white"
             }
            },
            "type": "table"
           }
          ]
         },
         "layout": {
          "annotationdefaults": {
           "arrowcolor": "#2a3f5f",
           "arrowhead": 0,
           "arrowwidth": 1
          },
          "autotypenumbers": "strict",
          "coloraxis": {
           "colorbar": {
            "outlinewidth": 0,
            "ticks": ""
           }
          },
          "colorscale": {
           "diverging": [
            [
             0,
             "#8e0152"
            ],
            [
             0.1,
             "#c51b7d"
            ],
            [
             0.2,
             "#de77ae"
            ],
            [
             0.3,
             "#f1b6da"
            ],
            [
             0.4,
             "#fde0ef"
            ],
            [
             0.5,
             "#f7f7f7"
            ],
            [
             0.6,
             "#e6f5d0"
            ],
            [
             0.7,
             "#b8e186"
            ],
            [
             0.8,
             "#7fbc41"
            ],
            [
             0.9,
             "#4d9221"
            ],
            [
             1,
             "#276419"
            ]
           ],
           "sequential": [
            [
             0,
             "#0d0887"
            ],
            [
             0.1111111111111111,
             "#46039f"
            ],
            [
             0.2222222222222222,
             "#7201a8"
            ],
            [
             0.3333333333333333,
             "#9c179e"
            ],
            [
             0.4444444444444444,
             "#bd3786"
            ],
            [
             0.5555555555555556,
             "#d8576b"
            ],
            [
             0.6666666666666666,
             "#ed7953"
            ],
            [
             0.7777777777777778,
             "#fb9f3a"
            ],
            [
             0.8888888888888888,
             "#fdca26"
            ],
            [
             1,
             "#f0f921"
            ]
           ],
           "sequentialminus": [
            [
             0,
             "#0d0887"
            ],
            [
             0.1111111111111111,
             "#46039f"
            ],
            [
             0.2222222222222222,
             "#7201a8"
            ],
            [
             0.3333333333333333,
             "#9c179e"
            ],
            [
             0.4444444444444444,
             "#bd3786"
            ],
            [
             0.5555555555555556,
             "#d8576b"
            ],
            [
             0.6666666666666666,
             "#ed7953"
            ],
            [
             0.7777777777777778,
             "#fb9f3a"
            ],
            [
             0.8888888888888888,
             "#fdca26"
            ],
            [
             1,
             "#f0f921"
            ]
           ]
          },
          "colorway": [
           "#636efa",
           "#EF553B",
           "#00cc96",
           "#ab63fa",
           "#FFA15A",
           "#19d3f3",
           "#FF6692",
           "#B6E880",
           "#FF97FF",
           "#FECB52"
          ],
          "font": {
           "color": "#2a3f5f"
          },
          "geo": {
           "bgcolor": "white",
           "lakecolor": "white",
           "landcolor": "#E5ECF6",
           "showlakes": true,
           "showland": true,
           "subunitcolor": "white"
          },
          "hoverlabel": {
           "align": "left"
          },
          "hovermode": "closest",
          "mapbox": {
           "style": "light"
          },
          "paper_bgcolor": "white",
          "plot_bgcolor": "#E5ECF6",
          "polar": {
           "angularaxis": {
            "gridcolor": "white",
            "linecolor": "white",
            "ticks": ""
           },
           "bgcolor": "#E5ECF6",
           "radialaxis": {
            "gridcolor": "white",
            "linecolor": "white",
            "ticks": ""
           }
          },
          "scene": {
           "xaxis": {
            "backgroundcolor": "#E5ECF6",
            "gridcolor": "white",
            "gridwidth": 2,
            "linecolor": "white",
            "showbackground": true,
            "ticks": "",
            "zerolinecolor": "white"
           },
           "yaxis": {
            "backgroundcolor": "#E5ECF6",
            "gridcolor": "white",
            "gridwidth": 2,
            "linecolor": "white",
            "showbackground": true,
            "ticks": "",
            "zerolinecolor": "white"
           },
           "zaxis": {
            "backgroundcolor": "#E5ECF6",
            "gridcolor": "white",
            "gridwidth": 2,
            "linecolor": "white",
            "showbackground": true,
            "ticks": "",
            "zerolinecolor": "white"
           }
          },
          "shapedefaults": {
           "line": {
            "color": "#2a3f5f"
           }
          },
          "ternary": {
           "aaxis": {
            "gridcolor": "white",
            "linecolor": "white",
            "ticks": ""
           },
           "baxis": {
            "gridcolor": "white",
            "linecolor": "white",
            "ticks": ""
           },
           "bgcolor": "#E5ECF6",
           "caxis": {
            "gridcolor": "white",
            "linecolor": "white",
            "ticks": ""
           }
          },
          "title": {
           "x": 0.05
          },
          "xaxis": {
           "automargin": true,
           "gridcolor": "white",
           "linecolor": "white",
           "ticks": "",
           "title": {
            "standoff": 15
           },
           "zerolinecolor": "white",
           "zerolinewidth": 2
          },
          "yaxis": {
           "automargin": true,
           "gridcolor": "white",
           "linecolor": "white",
           "ticks": "",
           "title": {
            "standoff": 15
           },
           "zerolinecolor": "white",
           "zerolinewidth": 2
          }
         }
        },
        "title": {
         "text": "Wizualizacja embeddingów użytkowników i filmów w 3D"
        }
       }
      },
      "text/html": [
       "<div>                            <div id=\"f143c056-6929-480d-bc22-ac2be1133326\" class=\"plotly-graph-div\" style=\"height:800px; width:100%;\"></div>            <script type=\"text/javascript\">                require([\"plotly\"], function(Plotly) {                    window.PLOTLYENV=window.PLOTLYENV || {};                                    if (document.getElementById(\"f143c056-6929-480d-bc22-ac2be1133326\")) {                    Plotly.newPlot(                        \"f143c056-6929-480d-bc22-ac2be1133326\",                        [{\"marker\":{\"color\":\"red\",\"size\":8},\"mode\":\"markers+text\",\"name\":\"Users\",\"text\":[\"Pawe\\u0142 Cz.\",\"Jakub P.\",\"Mateusz W.\",\"Kacper S.\",\"Jakub M.\",\"Karol Sz.\",\"Kacper P.\",\"Andrzej E.\",\"Micha\\u0142 J.\"],\"x\":[-0.0051809209398925304,0.09582175314426422,0.04855460673570633,-0.1111607626080513,-0.03276696801185608,0.007966587319970131,-0.1277119666337967,0.1637745052576065,-0.039296891540288925],\"y\":[-0.12864619493484497,0.021917713806033134,0.08225587755441666,-0.009308801032602787,-0.10588281601667404,0.11525309085845947,-0.02624681033194065,-0.06669744849205017,0.11735536903142929],\"z\":[0.052724968641996384,-0.021222781389951706,0.03630087524652481,0.06329279392957687,0.07961204648017883,0.08036275207996368,-0.16297975182533264,-0.08026598393917084,-0.047824885696172714],\"type\":\"scatter3d\"},{\"hoverinfo\":\"text\",\"marker\":{\"color\":\"blue\",\"opacity\":0.6,\"size\":6},\"mode\":\"markers\",\"name\":\"Movies\",\"text\":[\"1670\",\"Jak sprzedawa\\u0107 dragi w sieci (szybko)\",\"Samce Alfa\",\"Lucyfer\",\"Niebieskoki Samuraj\",\"Barbarzy\\u0144cy\",\"Para Idealna\",\"Rojst\",\"Polowanie na Czerwony Pa\\u009fdziernik\",\"Rick & Morty\",\"The Big Bang Theory\",\"Braveheart\",\"The Expanse\",\"Miasteczko South Park\",\"Kraina Lodu\",\"Dziennik Bridget Jones\",\"Kapitan Ameryka: Wojna bohater\\u00f3w\",\"Avengers: Czas Ultrona\",\"Terminator 2\",\"Planeta Singli\",\"List do M.\",\"List do M. 2\",\"Forrest Gump\",\"Ex Machina\",\"Gran Torino\",\"Cicha Noc\",\"Battleship: Bitwa o Ziemi\\u0119\",\"Narodziny Gwiazdy\",\"Kapitan Phillips\",\"Grand Budapest Hotel\",\"Wyjazd integracyjny\",\"John Wick\",\"Narcos\",\"Terminal\",\"Ona\",\"Whiplash\",\"Diabe\\u0142 ubiera si\\u0119 u Prady\",\"La Casa De Papel\",\"Peaky Blinders\",\"Contratiempo\",\"La Cara Oculta\",\"The Order\",\"Sabrina\",\"Wikingowie\",\"50 twarzy greya\",\"Family guy\",\"Avengers: Wojna bez granic\",\"Annabelle\",\"Obecno\\u009c\\u0107 3\",\"Stranger Things\",\"Obcy kontra predator 2\",\"Kaleidoskop\",\"Terrifier 3\",\"Hellboy: Wzg\\u00f3rza nawiedzonych\",\"Naruto\",\"Bogdan Boner: Egzorcysta\",\"Szcz\\u0119ki\",\"Meg\",\"Deadpool 1\",\"Twister\",\"Venom 1\",\"Terrifier 1\",\"Terrifier 2\",\"Kosmiczni kowboje\",\"W lesie dzi\\u009c nie za\\u009cnie nikt 1\",\"Witcher\",\"Piraci z karaib\\u00f3w: Kl\\u0161twa czarnej per\\u0142y\",\"Spiderman: Daleko od domu\",\"9 11\",\"Obcy: Rommulus\",\"The 100\",\"Squid Game\",\"W lesie dzi\\u009c nie za\\u009cnie nikt 2\",\"She-Hulk\",\"Sex education\",\"Avatar\",\"Avengers: Koniec gry\",\"Toy story 4\",\"Shadow hunters\",\"Odlot\",\"Autopsja Jane Doe\",\"Gra o Tron\",\"Dark\",\"Substancja\",\"Batman (2022)\",\"Breaking Bad\",\"The Walking Dead\",\"Gambit Kr\\u00f3lowej\",\"Euforia\",\"Ozark\",\"American Horror Story\",\"Kapitan Bomba\",\"Brickleberry\",\"Westworld\",\"Matrix\",\"13 Posterunek\",\"Trzyna\\u009ccie Powod\\u00f3w\",\"\\u008clepn\\u0161c od \\u009cwiate\\u0142\",\"Arcane\",\"Zmierzch\",\"Cast Away: Poza \\u009cwiatem\",\"Szko\\u0142a dla Elity\",\"Prison Break\",\"Meg 2\",\"Outer Banks\",\"Baywatch: S\\u0142oneczny patrol\",\"Furioza\",\"Powr\\u00f3t do przysz\\u0142osci\",\"Bad Boy\",\"Harry Potter\",\"Pszczelarz\",\"Deadpool & Wolverine\",\"Road House\",\"Dama\",\"Godzilla i Kong: Nowe imperium\",\"Hobbit\",\"Fallout\",\"gwiezdne wojny\",\"Aquaman\",\"Wilk z Wall Street\",\"Zjawa\",\"Django\",\"Obecno\\u009c\\u0107\",\"Noc oczyszczenia\",\"Pi\\u0142a X\",\"Puchatek: Krew i mi\\u00f3d\",\"Jestem legend\\u0161\",\"M3GAN\",\"klucz do wiecznosci\",\"X-men\",\"Deadpool\",\"Czerwona nota\",\"Bodyguard Zawodowiec\",\"R.I.P.D. Agenci z za\\u009cwiat\\u00f3w\",\"need for speed\",\"Pick of destiny\",\"Harry Potter: Komnata\",\"Interstellar\",\"Outlander\",\"Botoks\",\"Pi\\u0119kny umys\\u0142\",\"Wi\\u0119zie\\u0144 labiryntu\",\"How high\",\"Igrzyska \\u009cmierci\",\"Buntownik z wyboru\",\"Kicia kocia\",\"Mr. Robot\",\"Droga do eldorado\",\"Shrek\",\"W\\u0142adca Pier\\u009ccieni\",\"Wied\\u009fmin\",\"Kevin sam w domu\",\"z\\u0142ap mnie, je\\u017celi potrafisz\",\"Wi\\u0119zie\\u0144 labiryntu 2\",\"Kac Vegas\",\"black mirror\",\"Lucy\",\"Wy\\u009ccig z czasem\",\"WHO AM I. Mo\\u017cesz by\\u0107 kim chcesz\",\"Lighthouse\",\"Gra tajemnic\",\"Polaroid\",\"Cisza\",\"Las samob\\u00f3jc\\u00f3w\",\"Lekarstwo na \\u017cycie\",\"kod nie\\u009cmiertelno\\u009cci\",\"czas na mi\\u0142o\\u009c\\u0107\",\"Kung-fu panda\",\"deadpool\",\"Eternals\",\"Ptaki nocy\",\"Sz?gun\",\"Iluzjonista\",\"Incepcja\",\"Wyspa tajemnic\",\"Jestem Bogiem\",\"Ja, robot\",\"Sherlock\",\"Loki\",\"Stra\\u017cnicy Galaktyki\",\"Stra\\u017cnicy Galaktyki 2\",\"Nie patrz w g\\u00f3r\\u0119\",\"Na no\\u017ce\",\"Przeznaczenie\",\"Gladiator\",\"Thor: Ragnarok\",\"Shadowhunters\",\"\\u008cwiat wed\\u0142ug Kiepskich\",\"Oppenheimer\",\"Napoleon\",\"Exodus: Bogowie i kr\\u00f3lowie\",\"Czarnobyl\",\"Ostatni taniec\",\"Czarne lustro\",\"Sukcesja\",\"The Boys\",\"Rozdzielenie\",\"Dom z papieru\",\"The Mandalorian\",\"Yellowstone\",\"Niebieskooki samuraj\",\"The Last of Us\",\"Gwiezdne wojny: Andor\",\"Boso przez \\u009cwiat\",\"Pingwin\",\"Czarny ptak\",\"R\\u00f3d smoka\",\"Silos\",\"Stamt\\u0161d\",\"Skazani na Shawshank\",\"Zielona Mila\",\"Ojciec chrzestny\",\"Lot nad kuku\\u0142czym gniazdem\",\"W\\u0142adca Pier\\u009ccieni: Powr\\u00f3t kr\\u00f3la\",\"Diuna: Cz\\u0119\\u009c\\u0107 druga\",\"Mroczny Rycerz\",\"Trzyna\\u009ccie powod\\u00f3w\",\"Parasite\",\"B\\u0119karty Wojny\",\"Wo\\u0142y\\u0144\",\"Joker\",\"Ruchomy zamek Hauru\",\"Maska\",\"Wall-e\",\"Co w duszy gra\",\"Wyspa Ps\\u00f3w\",\"Spirited away: W karinie Bog\\u00f3w\",\"Full metal Jacket\",\"Smole\\u0144sk\",\"Iluzja\",\"L\\u009cnienie\",\"Mechaniczna Pomara\\u0144cza\",\"Efekt Motyla\",\"Bliskie spotkanie trzeciego stopnia\",\"Paterson\",\"Panaceum\",\"Melancholia\",\"Dzika droga\",\"Anon\",\"Birdman\",\"Uciekaj\",\"Ostatnia rodzina\",\"Schy\\u0142ek dnia\",\"Lobster\",\"Gra\",\"Opiekunka\",\"Oczy szeroko zamkni\\u0119te\",\"Boyhood\",\"Bogowie\",\"Szeregowiec Ryan\",\"Ojciec Chrzestny\"],\"x\":[-0.007158316671848297,-0.006396127864718437,-0.01050616055727005,-0.01751456782221794,-0.04370734840631485,-0.0418454147875309,0.07263149321079254,0.07170140743255615,0.01643993705511093,0.01447850652039051,-0.051850590854883194,0.0562775656580925,-0.08494743704795837,0.013951757922768593,0.03763815760612488,-0.022290799766778946,-0.056546296924352646,-0.012414470314979553,0.0028449706733226776,-0.060211483389139175,-0.007914253510534763,0.028969287872314453,-0.004143500700592995,-0.002020624466240406,-0.07413007318973541,0.11377938091754913,0.0039399005472660065,0.021873876452445984,0.022079940885305405,-0.0274791456758976,0.06767962127923965,-0.005692998878657818,-0.00882231816649437,-0.03187892958521843,-0.008457648567855358,0.020258231088519096,0.008204512298107147,-0.02368750050663948,0.015057665295898914,-0.01005755364894867,-0.009499426931142807,0.07732047140598297,0.004612363409250975,0.039990831166505814,-0.052670419216156006,0.02836371585726738,-0.11022788286209106,0.05361516773700714,-0.009496664628386497,-0.13601802289485931,-0.050076402723789215,0.047002967447042465,-0.02499600499868393,-0.050068750977516174,-0.02043652907013893,0.033663056790828705,-0.0013946108520030975,0.048716939985752106,0.03526128828525543,-0.03975757956504822,0.13548296689987183,0.11216756701469421,-0.06278416514396667,0.1465555727481842,-0.1115134060382843,-0.039522092789411545,-0.0014655031263828278,0.036935918033123016,-0.15908490121364594,0.17381839454174042,-0.141091451048851,0.026764322072267532,-0.05959382280707359,0.18734540045261383,0.015798337757587433,-0.0632089227437973,0.07858560979366302,-0.05833057686686516,0.03282978758215904,0.09876775741577148,-0.04422135278582573,0.0644180178642273,-0.05299842357635498,-0.05910749360918999,0.010341698303818703,0.020021380856633186,-0.032736651599407196,0.04052525386214256,-0.012950669974088669,-0.017734026536345482,-0.03606994077563286,-0.03848729655146599,0.05970710888504982,-0.053031112998723984,-0.03967898339033127,-0.07537056505680084,-0.039727382361888885,0.07323899865150452,0.024504821747541428,0.04276895150542259,-0.044453028589487076,0.08427886664867401,-0.04198572412133217,-0.02667158469557762,-0.0014121141284704208,0.1259089708328247,-0.13069219887256622,-0.15317772328853607,0.12734273076057434,-0.015276387333869934,-0.012670207768678665,-0.008110104128718376,0.016585074365139008,-0.018972788006067276,0.036002807319164276,-0.027190204709768295,-0.0539701022207737,-0.007774725556373596,-0.011456543579697609,-0.005418887361884117,0.03367646411061287,0.08243158459663391,-0.07986472547054291,0.04249102249741554,0.026405464857816696,0.0302058644592762,-0.05472991243004799,-0.012458786368370056,-0.02582426369190216,-0.00855918601155281,-0.0018261140212416649,0.006530821323394775,-0.044817231595516205,0.019085129722952843,0.02251850627362728,-0.009813494980335236,0.007322348654270172,-0.01972188986837864,0.0014161914587020874,0.006702461279928684,-0.04036838188767433,0.06426841765642166,0.01428358256816864,0.0065753273665905,0.06657938659191132,0.034240178763866425,-0.008460648357868195,-0.0171164833009243,-0.04822264984250069,0.019151989370584488,0.11000646650791168,0.1532403975725174,0.002592936158180237,-0.037745919078588486,0.04315071925520897,-0.015278484672307968,-0.10484199225902557,-0.11586816608905792,-0.0699845403432846,-0.038896456360816956,-0.08661599457263947,0.1388304978609085,-0.07162849605083466,-0.0025459900498390198,-0.05267731472849846,-0.09588707983493805,-0.12266883254051208,-0.06264248490333557,-0.036477621644735336,0.11705748736858368,0.11078451573848724,-0.004650541581213474,-0.10804061591625214,-0.0019328882917761803,-0.04046311601996422,-0.09306234121322632,-0.15400832891464233,-0.036766428500413895,-0.05163382366299629,-0.12785662710666656,-0.11409159004688263,-0.08370549976825714,-0.118112713098526,-0.1311502456665039,0.005525965243577957,0.0049372524954378605,-0.07730421423912048,-0.14539563655853271,0.026151327416300774,-0.07068465650081635,-0.0035945363342761993,0.11366207897663116,0.20118051767349243,0.008990773931145668,0.17995122075080872,-0.019232869148254395,0.14904996752738953,0.04694543778896332,-0.02438269555568695,-0.04416568949818611,0.10235118865966797,-0.028219427913427353,0.029498472809791565,0.06216807663440704,0.022645140066742897,0.12529031932353973,0.15931189060211182,0.07596558332443237,0.09718294441699982,-0.03101886436343193,-0.053032029420137405,0.15794947743415833,0.19686520099639893,0.21828915178775787,0.15981176495552063,0.07778076827526093,-0.0833168774843216,-0.0033416636288166046,0.006353179924190044,0.16461630165576935,0.049788784235715866,-0.06606234610080719,-0.013415474444627762,-0.06571593880653381,-0.046906810253858566,-0.0695391595363617,-0.04119459539651871,-0.009035546332597733,0.05401680991053581,0.05420328676700592,-0.019127290695905685,0.025093920528888702,-0.08318156003952026,-0.02915426716208458,-0.04678305611014366,-0.04394953325390816,-0.010863970965147018,-0.07821980118751526,0.009546106681227684,-0.04206358268857002,0.008605570532381535,-0.09146550297737122,-0.03174838796257973,-0.050025951117277145,-0.030418310314416885,-0.01004389114677906,-0.0028945384547114372,0.003396127372980118,-0.009541880339384079,0.0024836715310811996,-0.008436698466539383],\"y\":[-0.00977962464094162,-0.019491184502840042,-0.21409395337104797,-0.2599361836910248,-0.20531269907951355,-0.13267183303833008,-0.2031019628047943,-0.16633522510528564,0.010769464075565338,-0.009474441409111023,-0.13642257452011108,-0.25768718123435974,-0.18498051166534424,0.027558449655771255,-0.11884965747594833,-0.10450153797864914,-0.1023879274725914,0.049173466861248016,-0.07459938526153564,-0.1565464287996292,-0.021956458687782288,0.07940787822008133,-0.02549336850643158,0.02677847445011139,-0.15648740530014038,-0.17360353469848633,0.13417556881904602,0.07413040101528168,-0.19573193788528442,0.006939604878425598,-0.050351738929748535,0.006659321486949921,-0.026942426338791847,-0.16239166259765625,-0.0482657365500927,-0.05924688279628754,-0.2052115797996521,-0.15604478120803833,-0.01494608074426651,-0.07290472090244293,-0.10763129591941833,0.005598872900009155,-0.019900649785995483,-0.1014518067240715,-0.22328126430511475,-0.012766776606440544,-0.060121990740299225,-0.028822876513004303,-0.010969253256917,-0.04078495502471924,-0.07599802315235138,-0.07074896991252899,-0.03428950905799866,-0.08070044219493866,-0.011835172772407532,0.025337249040603638,0.026265643537044525,-0.06784402579069138,-0.004997409880161285,-0.0451991893351078,-0.07164132595062256,-0.03523367643356323,-0.05574452504515648,-0.038190003484487534,-0.016898315399885178,-0.007965151220560074,-0.025721168145537376,-0.14637908339500427,-0.021908031776547432,-0.05061107128858566,0.050024889409542084,0.0010718442499637604,-0.03923817723989487,-0.033457621932029724,-0.013393480330705643,-0.05943658575415611,0.021757911890745163,-0.0504130944609642,0.021500006318092346,0.02244364470243454,-0.05496669560670853,-0.07682309299707413,-0.020005665719509125,-0.13443729281425476,0.020092468708753586,-0.028798028826713562,-0.06467227637767792,-0.011647230014204979,0.011581048369407654,-0.03313659131526947,-0.08997456729412079,0.02966105192899704,-0.031650345772504807,-0.02351747453212738,-0.06648264080286026,0.03058556467294693,-0.11668156832456589,0.21234527230262756,-0.033101048320531845,-0.10745760798454285,-0.126755952835083,-0.14924736320972443,-0.014760993421077728,-0.049210671335458755,-0.020022306591272354,-0.003250814974308014,-0.036813147366046906,-0.08407233655452728,-0.024477241560816765,-0.06963546574115753,-0.008307503536343575,-0.02508053556084633,-0.1625531017780304,-0.09486617892980576,-0.03211250901222229,-0.07544148713350296,0.018134795129299164,-0.17925050854682922,0.02480323612689972,-0.059873633086681366,-0.17631739377975464,-0.08945679664611816,-0.20139288902282715,-0.16509926319122314,0.04759687930345535,0.08650926500558853,-0.22163185477256775,-0.02188863605260849,-0.2718906104564667,-0.02579086273908615,0.005663994699716568,-0.0922204852104187,-0.1913406252861023,-0.04794735834002495,-0.09584418684244156,0.061562106013298035,0.1438877284526825,-0.02644433081150055,0.0009355619549751282,-0.017752211540937424,0.27153459191322327,0.18822214007377625,0.07939598709344864,0.06773317605257034,0.035133540630340576,0.07312584668397903,0.03314600884914398,0.0162380188703537,-0.0509951077401638,0.15114188194274902,0.049344561994075775,0.015171300619840622,0.019623152911663055,-0.022475235164165497,0.10490544885396957,-0.01202632300555706,-0.04114679619669914,-0.05462131276726723,-0.0912097617983818,-0.009801434352993965,-0.05480996519327164,0.0027852430939674377,0.008497826755046844,-0.12677770853042603,-0.0958753302693367,-0.04616675525903702,-0.02477949857711792,-0.029537459835410118,-0.028002560138702393,0.00434083491563797,-0.0552750825881958,-0.01982775144279003,-0.05747745931148529,-0.007913343608379364,-0.002783477306365967,-0.11778055876493454,-0.04197145253419876,0.007313158363103867,-0.02801891788840294,-0.052162282168865204,-0.06249669939279556,-0.028568588197231293,-0.07581035792827606,-0.015830643475055695,-0.0015809480100870132,-0.027655750513076782,-0.03735021874308586,-0.07105349749326706,-0.02172672189772129,-0.02551243267953396,-0.10959736257791519,-0.12620292603969574,-0.2187432050704956,-0.07756355404853821,-0.09215468913316727,0.004463113844394684,-0.16195827722549438,-0.05254368111491203,-0.009789422154426575,-0.002042662352323532,-0.07398781925439835,-0.0026864297688007355,0.015569344162940979,-0.1829528510570526,-0.008396023884415627,-0.07968052476644516,-0.10264427214860916,-0.08127753436565399,-0.09832920879125595,0.019664380699396133,0.037069566547870636,-0.10431484133005142,-0.18227845430374146,-0.05148104950785637,-0.09509027749300003,-0.09989980608224869,-0.12149951606988907,-0.0019122418016195297,-0.031612880527973175,-0.19958075881004333,-0.02399364486336708,-0.046867430210113525,0.10434015840291977,0.08643942326307297,0.10163121670484543,0.10402246564626694,0.010365761816501617,0.011702071875333786,0.21747463941574097,-0.16003859043121338,0.12004273384809494,0.20960426330566406,0.046537816524505615,-0.07196258008480072,0.0875755324959755,-0.1253463327884674,-0.010193292051553726,-0.2223002016544342,0.05294037610292435,0.11378299444913864,0.006451230496168137,0.10928758233785629,0.022792331874370575,0.02993065118789673,0.049871303141117096,-0.0625174343585968,-0.011696305125951767,0.0748521238565445,-0.010400902479887009,0.09244544059038162,0.23847150802612305],\"z\":[-0.016621075570583344,-0.04556506499648094,0.01824149489402771,-0.2423454225063324,-0.07170146703720093,-0.02760981395840645,0.09533146023750305,-0.06041913479566574,-0.06546822190284729,0.013673245906829834,-0.08824565261602402,0.002663753926753998,-0.05848151072859764,-0.051819924265146255,-0.12670406699180603,-0.13144022226333618,-0.17203623056411743,-0.14907148480415344,-0.09584404528141022,0.016374841332435608,-0.049755096435546875,-0.14078973233699799,-0.010606445372104645,-0.10823202133178711,-0.15757057070732117,-0.05127280205488205,-0.12516218423843384,-0.09790681302547455,0.059091098606586456,-0.0028382614254951477,-0.2311011701822281,-0.04164505749940872,-0.009214591234922409,-0.011860392987728119,-0.034377045929431915,-0.03084382973611355,0.009280577301979065,-0.020584024488925934,-0.023049864917993546,-0.02186989039182663,0.006903849542140961,-0.04668821394443512,-0.05232870951294899,-0.09785175323486328,-0.4021059274673462,-0.019009314477443695,-0.08180278539657593,-0.10978694260120392,-0.06052302569150925,-0.015607420355081558,-0.0636705756187439,-0.0994868129491806,-0.05165079981088638,-0.1290147304534912,-0.009943310171365738,0.029225744307041168,-0.10489200055599213,-0.05400682985782623,-0.023635365068912506,-0.05476199835538864,-0.1909879595041275,-0.16715824604034424,-0.05706105753779411,-0.1440909206867218,-0.04066679999232292,-0.02842949703335762,-0.056452784687280655,-0.028622347861528397,0.02814849466085434,-0.011987656354904175,0.013112351298332214,0.133621484041214,-0.09425118565559387,0.06734757125377655,-0.04292881116271019,-0.13541653752326965,-0.12057245522737503,-0.046268075704574585,-0.13255354762077332,-0.09252763539552689,-0.05197949707508087,-0.10163387656211853,-0.019978083670139313,-0.10397204011678696,-0.12498542666435242,-0.015110019594430923,-0.06794053316116333,0.0007954314351081848,-0.007571570575237274,-0.04012421891093254,-0.06146718189120293,0.036998242139816284,-0.06942857056856155,-0.02504497393965721,-0.06792813539505005,-0.16364037990570068,-0.10771964490413666,0.0788554698228836,0.016994282603263855,-0.02466856688261032,-0.0676642432808876,-0.1721489429473877,-0.012541502714157104,-0.11836142092943192,-0.05312950909137726,0.11647278070449829,-0.01107468456029892,-0.017100706696510315,-0.09001660346984863,-0.024204373359680176,-0.08402980864048004,-0.04477256163954735,0.01593470573425293,0.0059050023555755615,-0.09595969319343567,0.0020858682692050934,-0.05095645785331726,-0.08875135332345963,-0.08682206273078918,-0.019916050136089325,-0.02835966646671295,-0.06837587058544159,-0.020196471363306046,-0.009656127542257309,-0.13343596458435059,-0.10716623812913895,0.08755746483802795,-0.04101000726222992,0.15578576922416687,-0.045642558485269547,-0.06728267669677734,0.001312214881181717,-0.027748197317123413,0.0056706443428993225,-0.03406304493546486,-0.005797330290079117,0.05498915910720825,-0.05967068672180176,-0.02001030743122101,-0.07605107128620148,-0.02313985303044319,0.01190754771232605,0.01991112530231476,-0.016853496432304382,-0.04604407399892807,0.03225800395011902,-0.013912700116634369,-0.011152353137731552,-0.10909110307693481,-0.037712227553129196,0.13914351165294647,-0.00299883633852005,0.007854737341403961,-0.12169613689184189,0.015458375215530396,-0.02998492121696472,-0.15408861637115479,-0.14821618795394897,-0.2772749364376068,-0.09952192008495331,-0.252019464969635,0.12060625851154327,-0.16807712614536285,-0.018309302628040314,-0.26134181022644043,-0.25400257110595703,-0.2608044147491455,-0.11549891531467438,-0.07433599978685379,0.03428658843040466,0.043064184486866,0.0057044923305511475,-0.12056031823158264,-0.014946866780519485,-0.03541562333703041,-0.15840056538581848,-0.19531814754009247,-0.039429277181625366,-0.08519549667835236,-0.2598409056663513,-0.27640748023986816,-0.2933099865913391,-0.24983082711696625,-0.20101292431354523,0.004193931818008423,-0.020523734390735626,-0.15223555266857147,-0.2224680483341217,-0.03974904119968414,-0.09424301236867905,-0.18655310571193695,-0.21319790184497833,-0.08486942946910858,-0.04838503897190094,-0.16027608513832092,0.05509661138057709,-0.16836243867874146,-0.07775367051362991,-0.02270270138978958,-0.008765053004026413,-0.16063964366912842,-0.013612117618322372,-0.05778587609529495,-0.08480681478977203,-0.06572147458791733,-0.12457422912120819,-0.12163300812244415,-0.13576844334602356,-0.08754231780767441,-0.010349821299314499,-0.009963937103748322,-0.09664373099803925,-0.07461723685264587,-0.08013898879289627,-0.17056182026863098,-0.17887820303440094,-0.06887803971767426,0.0041270628571510315,-0.037592485547065735,-0.0009032003581523895,-0.053080037236213684,-0.09779801964759827,-0.05912307649850845,-0.1556447148323059,-0.12989690899848938,-0.21459455788135529,-0.06224895641207695,-0.04930146038532257,-0.1491653025150299,-0.06331193447113037,-0.14976391196250916,-0.10282090306282043,-0.08027705550193787,-0.2032974511384964,-0.08270257711410522,-0.15155094861984253,-0.055847764015197754,0.09715956449508667,-0.08088575303554535,-0.09369133412837982,-0.18340721726417542,-0.13870227336883545,-0.07999878376722336,-0.11076170206069946,-0.08964814245700836,-0.03644658252596855,-0.08027464896440506,-0.10347709059715271,-0.05254204571247101,-0.12453297525644302,-0.10183371603488922],\"type\":\"scatter3d\"}],                        {\"template\":{\"data\":{\"histogram2dcontour\":[{\"type\":\"histogram2dcontour\",\"colorbar\":{\"outlinewidth\":0,\"ticks\":\"\"},\"colorscale\":[[0.0,\"#0d0887\"],[0.1111111111111111,\"#46039f\"],[0.2222222222222222,\"#7201a8\"],[0.3333333333333333,\"#9c179e\"],[0.4444444444444444,\"#bd3786\"],[0.5555555555555556,\"#d8576b\"],[0.6666666666666666,\"#ed7953\"],[0.7777777777777778,\"#fb9f3a\"],[0.8888888888888888,\"#fdca26\"],[1.0,\"#f0f921\"]]}],\"choropleth\":[{\"type\":\"choropleth\",\"colorbar\":{\"outlinewidth\":0,\"ticks\":\"\"}}],\"histogram2d\":[{\"type\":\"histogram2d\",\"colorbar\":{\"outlinewidth\":0,\"ticks\":\"\"},\"colorscale\":[[0.0,\"#0d0887\"],[0.1111111111111111,\"#46039f\"],[0.2222222222222222,\"#7201a8\"],[0.3333333333333333,\"#9c179e\"],[0.4444444444444444,\"#bd3786\"],[0.5555555555555556,\"#d8576b\"],[0.6666666666666666,\"#ed7953\"],[0.7777777777777778,\"#fb9f3a\"],[0.8888888888888888,\"#fdca26\"],[1.0,\"#f0f921\"]]}],\"heatmap\":[{\"type\":\"heatmap\",\"colorbar\":{\"outlinewidth\":0,\"ticks\":\"\"},\"colorscale\":[[0.0,\"#0d0887\"],[0.1111111111111111,\"#46039f\"],[0.2222222222222222,\"#7201a8\"],[0.3333333333333333,\"#9c179e\"],[0.4444444444444444,\"#bd3786\"],[0.5555555555555556,\"#d8576b\"],[0.6666666666666666,\"#ed7953\"],[0.7777777777777778,\"#fb9f3a\"],[0.8888888888888888,\"#fdca26\"],[1.0,\"#f0f921\"]]}],\"heatmapgl\":[{\"type\":\"heatmapgl\",\"colorbar\":{\"outlinewidth\":0,\"ticks\":\"\"},\"colorscale\":[[0.0,\"#0d0887\"],[0.1111111111111111,\"#46039f\"],[0.2222222222222222,\"#7201a8\"],[0.3333333333333333,\"#9c179e\"],[0.4444444444444444,\"#bd3786\"],[0.5555555555555556,\"#d8576b\"],[0.6666666666666666,\"#ed7953\"],[0.7777777777777778,\"#fb9f3a\"],[0.8888888888888888,\"#fdca26\"],[1.0,\"#f0f921\"]]}],\"contourcarpet\":[{\"type\":\"contourcarpet\",\"colorbar\":{\"outlinewidth\":0,\"ticks\":\"\"}}],\"contour\":[{\"type\":\"contour\",\"colorbar\":{\"outlinewidth\":0,\"ticks\":\"\"},\"colorscale\":[[0.0,\"#0d0887\"],[0.1111111111111111,\"#46039f\"],[0.2222222222222222,\"#7201a8\"],[0.3333333333333333,\"#9c179e\"],[0.4444444444444444,\"#bd3786\"],[0.5555555555555556,\"#d8576b\"],[0.6666666666666666,\"#ed7953\"],[0.7777777777777778,\"#fb9f3a\"],[0.8888888888888888,\"#fdca26\"],[1.0,\"#f0f921\"]]}],\"surface\":[{\"type\":\"surface\",\"colorbar\":{\"outlinewidth\":0,\"ticks\":\"\"},\"colorscale\":[[0.0,\"#0d0887\"],[0.1111111111111111,\"#46039f\"],[0.2222222222222222,\"#7201a8\"],[0.3333333333333333,\"#9c179e\"],[0.4444444444444444,\"#bd3786\"],[0.5555555555555556,\"#d8576b\"],[0.6666666666666666,\"#ed7953\"],[0.7777777777777778,\"#fb9f3a\"],[0.8888888888888888,\"#fdca26\"],[1.0,\"#f0f921\"]]}],\"mesh3d\":[{\"type\":\"mesh3d\",\"colorbar\":{\"outlinewidth\":0,\"ticks\":\"\"}}],\"scatter\":[{\"fillpattern\":{\"fillmode\":\"overlay\",\"size\":10,\"solidity\":0.2},\"type\":\"scatter\"}],\"parcoords\":[{\"type\":\"parcoords\",\"line\":{\"colorbar\":{\"outlinewidth\":0,\"ticks\":\"\"}}}],\"scatterpolargl\":[{\"type\":\"scatterpolargl\",\"marker\":{\"colorbar\":{\"outlinewidth\":0,\"ticks\":\"\"}}}],\"bar\":[{\"error_x\":{\"color\":\"#2a3f5f\"},\"error_y\":{\"color\":\"#2a3f5f\"},\"marker\":{\"line\":{\"color\":\"#E5ECF6\",\"width\":0.5},\"pattern\":{\"fillmode\":\"overlay\",\"size\":10,\"solidity\":0.2}},\"type\":\"bar\"}],\"scattergeo\":[{\"type\":\"scattergeo\",\"marker\":{\"colorbar\":{\"outlinewidth\":0,\"ticks\":\"\"}}}],\"scatterpolar\":[{\"type\":\"scatterpolar\",\"marker\":{\"colorbar\":{\"outlinewidth\":0,\"ticks\":\"\"}}}],\"histogram\":[{\"marker\":{\"pattern\":{\"fillmode\":\"overlay\",\"size\":10,\"solidity\":0.2}},\"type\":\"histogram\"}],\"scattergl\":[{\"type\":\"scattergl\",\"marker\":{\"colorbar\":{\"outlinewidth\":0,\"ticks\":\"\"}}}],\"scatter3d\":[{\"type\":\"scatter3d\",\"line\":{\"colorbar\":{\"outlinewidth\":0,\"ticks\":\"\"}},\"marker\":{\"colorbar\":{\"outlinewidth\":0,\"ticks\":\"\"}}}],\"scattermapbox\":[{\"type\":\"scattermapbox\",\"marker\":{\"colorbar\":{\"outlinewidth\":0,\"ticks\":\"\"}}}],\"scatterternary\":[{\"type\":\"scatterternary\",\"marker\":{\"colorbar\":{\"outlinewidth\":0,\"ticks\":\"\"}}}],\"scattercarpet\":[{\"type\":\"scattercarpet\",\"marker\":{\"colorbar\":{\"outlinewidth\":0,\"ticks\":\"\"}}}],\"carpet\":[{\"aaxis\":{\"endlinecolor\":\"#2a3f5f\",\"gridcolor\":\"white\",\"linecolor\":\"white\",\"minorgridcolor\":\"white\",\"startlinecolor\":\"#2a3f5f\"},\"baxis\":{\"endlinecolor\":\"#2a3f5f\",\"gridcolor\":\"white\",\"linecolor\":\"white\",\"minorgridcolor\":\"white\",\"startlinecolor\":\"#2a3f5f\"},\"type\":\"carpet\"}],\"table\":[{\"cells\":{\"fill\":{\"color\":\"#EBF0F8\"},\"line\":{\"color\":\"white\"}},\"header\":{\"fill\":{\"color\":\"#C8D4E3\"},\"line\":{\"color\":\"white\"}},\"type\":\"table\"}],\"barpolar\":[{\"marker\":{\"line\":{\"color\":\"#E5ECF6\",\"width\":0.5},\"pattern\":{\"fillmode\":\"overlay\",\"size\":10,\"solidity\":0.2}},\"type\":\"barpolar\"}],\"pie\":[{\"automargin\":true,\"type\":\"pie\"}]},\"layout\":{\"autotypenumbers\":\"strict\",\"colorway\":[\"#636efa\",\"#EF553B\",\"#00cc96\",\"#ab63fa\",\"#FFA15A\",\"#19d3f3\",\"#FF6692\",\"#B6E880\",\"#FF97FF\",\"#FECB52\"],\"font\":{\"color\":\"#2a3f5f\"},\"hovermode\":\"closest\",\"hoverlabel\":{\"align\":\"left\"},\"paper_bgcolor\":\"white\",\"plot_bgcolor\":\"#E5ECF6\",\"polar\":{\"bgcolor\":\"#E5ECF6\",\"angularaxis\":{\"gridcolor\":\"white\",\"linecolor\":\"white\",\"ticks\":\"\"},\"radialaxis\":{\"gridcolor\":\"white\",\"linecolor\":\"white\",\"ticks\":\"\"}},\"ternary\":{\"bgcolor\":\"#E5ECF6\",\"aaxis\":{\"gridcolor\":\"white\",\"linecolor\":\"white\",\"ticks\":\"\"},\"baxis\":{\"gridcolor\":\"white\",\"linecolor\":\"white\",\"ticks\":\"\"},\"caxis\":{\"gridcolor\":\"white\",\"linecolor\":\"white\",\"ticks\":\"\"}},\"coloraxis\":{\"colorbar\":{\"outlinewidth\":0,\"ticks\":\"\"}},\"colorscale\":{\"sequential\":[[0.0,\"#0d0887\"],[0.1111111111111111,\"#46039f\"],[0.2222222222222222,\"#7201a8\"],[0.3333333333333333,\"#9c179e\"],[0.4444444444444444,\"#bd3786\"],[0.5555555555555556,\"#d8576b\"],[0.6666666666666666,\"#ed7953\"],[0.7777777777777778,\"#fb9f3a\"],[0.8888888888888888,\"#fdca26\"],[1.0,\"#f0f921\"]],\"sequentialminus\":[[0.0,\"#0d0887\"],[0.1111111111111111,\"#46039f\"],[0.2222222222222222,\"#7201a8\"],[0.3333333333333333,\"#9c179e\"],[0.4444444444444444,\"#bd3786\"],[0.5555555555555556,\"#d8576b\"],[0.6666666666666666,\"#ed7953\"],[0.7777777777777778,\"#fb9f3a\"],[0.8888888888888888,\"#fdca26\"],[1.0,\"#f0f921\"]],\"diverging\":[[0,\"#8e0152\"],[0.1,\"#c51b7d\"],[0.2,\"#de77ae\"],[0.3,\"#f1b6da\"],[0.4,\"#fde0ef\"],[0.5,\"#f7f7f7\"],[0.6,\"#e6f5d0\"],[0.7,\"#b8e186\"],[0.8,\"#7fbc41\"],[0.9,\"#4d9221\"],[1,\"#276419\"]]},\"xaxis\":{\"gridcolor\":\"white\",\"linecolor\":\"white\",\"ticks\":\"\",\"title\":{\"standoff\":15},\"zerolinecolor\":\"white\",\"automargin\":true,\"zerolinewidth\":2},\"yaxis\":{\"gridcolor\":\"white\",\"linecolor\":\"white\",\"ticks\":\"\",\"title\":{\"standoff\":15},\"zerolinecolor\":\"white\",\"automargin\":true,\"zerolinewidth\":2},\"scene\":{\"xaxis\":{\"backgroundcolor\":\"#E5ECF6\",\"gridcolor\":\"white\",\"linecolor\":\"white\",\"showbackground\":true,\"ticks\":\"\",\"zerolinecolor\":\"white\",\"gridwidth\":2},\"yaxis\":{\"backgroundcolor\":\"#E5ECF6\",\"gridcolor\":\"white\",\"linecolor\":\"white\",\"showbackground\":true,\"ticks\":\"\",\"zerolinecolor\":\"white\",\"gridwidth\":2},\"zaxis\":{\"backgroundcolor\":\"#E5ECF6\",\"gridcolor\":\"white\",\"linecolor\":\"white\",\"showbackground\":true,\"ticks\":\"\",\"zerolinecolor\":\"white\",\"gridwidth\":2}},\"shapedefaults\":{\"line\":{\"color\":\"#2a3f5f\"}},\"annotationdefaults\":{\"arrowcolor\":\"#2a3f5f\",\"arrowhead\":0,\"arrowwidth\":1},\"geo\":{\"bgcolor\":\"white\",\"landcolor\":\"#E5ECF6\",\"subunitcolor\":\"white\",\"showland\":true,\"showlakes\":true,\"lakecolor\":\"white\"},\"title\":{\"x\":0.05},\"mapbox\":{\"style\":\"light\"}}},\"title\":{\"text\":\"Wizualizacja embedding\\u00f3w u\\u017cytkownik\\u00f3w i film\\u00f3w w 3D\"},\"scene\":{\"xaxis\":{\"title\":{\"text\":\"Wymiar 1\"}},\"yaxis\":{\"title\":{\"text\":\"Wymiar 2\"}},\"zaxis\":{\"title\":{\"text\":\"Wymiar 3\"}}},\"showlegend\":true,\"height\":800},                        {\"responsive\": true}                    ).then(function(){\n",
       "                            \n",
       "var gd = document.getElementById('f143c056-6929-480d-bc22-ac2be1133326');\n",
       "var x = new MutationObserver(function (mutations, observer) {{\n",
       "        var display = window.getComputedStyle(gd).display;\n",
       "        if (!display || display === 'none') {{\n",
       "            console.log([gd, 'removed!']);\n",
       "            Plotly.purge(gd);\n",
       "            observer.disconnect();\n",
       "        }}\n",
       "}});\n",
       "\n",
       "// Listen for the removal of the full notebook cells\n",
       "var notebookContainer = gd.closest('#notebook-container');\n",
       "if (notebookContainer) {{\n",
       "    x.observe(notebookContainer, {childList: true});\n",
       "}}\n",
       "\n",
       "// Listen for the clearing of the current output cell\n",
       "var outputEl = gd.closest('.output');\n",
       "if (outputEl) {{\n",
       "    x.observe(outputEl, {childList: true});\n",
       "}}\n",
       "\n",
       "                        })                };                });            </script>        </div>"
      ]
     },
     "metadata": {},
     "output_type": "display_data"
    }
   ],
   "source": [
    "\n",
    "# Pobranie embeddingów z wytrenowanego modelu\n",
    "user_embedding_layer = model.get_layer(\"User_Embedding\")\n",
    "movie_embedding_layer = model.get_layer(\"Movie_Embedding\")\n",
    "\n",
    "# Pobranie wag embeddingów\n",
    "user_embeddings = user_embedding_layer.get_weights()[0]  # Macierz użytkowników\n",
    "movie_embeddings = movie_embedding_layer.get_weights()[0]  # Macierz filmów\n",
    "\n",
    "# Redukcja wymiarów do 3D za pomocą PCA\n",
    "pca = PCA(n_components=3)\n",
    "user_embeddings_3d = pca.fit_transform(user_embeddings)\n",
    "movie_embeddings_3d = pca.transform(movie_embeddings)\n",
    "\n",
    "# Mapowanie nazw użytkowników i filmów\n",
    "user_names = {v: k for k, v in user_id_mapping.items()}  # Odwrócenie mapowania dla użytkowników\n",
    "movie_names = {v: k for k, v in movie_id_mapping.items()}  # Odwrócenie mapowania dla filmów\n",
    "\n",
    "# Wizualizacja za pomocą Plotly\n",
    "fig = go.Figure()\n",
    "\n",
    "# Dodanie użytkowników do wykresu\n",
    "fig.add_trace(go.Scatter3d(\n",
    "    x=user_embeddings_3d[:, 0],\n",
    "    y=user_embeddings_3d[:, 1],\n",
    "    z=user_embeddings_3d[:, 2],\n",
    "    mode='markers+text',\n",
    "    marker=dict(size=8, color='red'),\n",
    "    text=[user_names[i] for i in range(len(user_names))],  # Nazwy użytkowników\n",
    "    name='Users'\n",
    "))\n",
    "\n",
    "# Dodanie filmów do wykresu\n",
    "fig.add_trace(go.Scatter3d(\n",
    "    x=movie_embeddings_3d[:, 0],\n",
    "    y=movie_embeddings_3d[:, 1],\n",
    "    z=movie_embeddings_3d[:, 2],\n",
    "    mode='markers',\n",
    "    marker=dict(size=6, color='blue', opacity=0.6),\n",
    "    text=[movie_names[i] for i in range(len(movie_names))],  # Nazwy filmów\n",
    "    name='Movies',\n",
    "    hoverinfo='text'\n",
    "))\n",
    "\n",
    "# Ustawienia wykresu\n",
    "fig.update_layout(\n",
    "    title=\"Wizualizacja embeddingów użytkowników i filmów w 3D\",\n",
    "    scene=dict(\n",
    "        xaxis_title=\"Wymiar 1\",\n",
    "        yaxis_title=\"Wymiar 2\",\n",
    "        zaxis_title=\"Wymiar 3\"\n",
    "    ),\n",
    "    showlegend=True,\n",
    "    height=800  # Wysokość okna wykresu\n",
    ")\n",
    "\n",
    "# Wyświetlenie wykresu\n",
    "fig.show()\n"
   ]
  },
  {
   "cell_type": "code",
   "execution_count": 615,
   "id": "03baa3b6-c625-4cf0-adaa-81e7e44c6804",
   "metadata": {},
   "outputs": [],
   "source": [
    "def recommend_movies_for_user(user_id, user_embeddings, movie_embeddings, movie_names, user_id_mapping, df, top_n=5, best=True):\n",
    "    \"\"\"\n",
    "    Proponuje najlepsze filmy dla danego użytkownika na podstawie embeddingów.\n",
    "    \n",
    "    Parameters:\n",
    "    - user_id: ID użytkownika (oryginalny ID, nie indeks).\n",
    "    - user_embeddings: Macierz embeddingów użytkowników.\n",
    "    - movie_embeddings: Macierz embeddingów filmów.\n",
    "    - movie_names: Słownik mapujący indeksy na nazwy filmów.\n",
    "    - user_id_mapping: Słownik mapujący ID użytkownika na indeks w embeddingach.\n",
    "    - df: DataFrame z kolumnami ['User', 'Movie'], wskazujący, które filmy użytkownik ocenił.\n",
    "    - top_n: Liczba filmów do zarekomendowania (domyślnie 5).\n",
    "    \n",
    "    Returns:\n",
    "    - Lista (nazwa filmu, odległość) dla najlepszych filmów.\n",
    "    \"\"\"\n",
    "    # Pobranie indeksu użytkownika w macierzy embeddingów\n",
    "    user_idx = user_id_mapping[user_id]\n",
    "    \n",
    "    # Embedding użytkownika\n",
    "    user_vector = user_embeddings[user_idx]\n",
    "    \n",
    "    # Lista filmów ocenionych przez użytkownika (konwersja nazw na indeksy)\n",
    "    rated_movies = df[df['User'] == user_id]['Movie'].values\n",
    "    rated_movies_indices = [movie_name_to_id[movie] for movie in rated_movies if movie in movie_name_to_id]\n",
    "\n",
    "    # Obliczenie odległości euklidesowej między użytkownikiem a każdym filmem\n",
    "    distances = np.linalg.norm(movie_embeddings - user_vector, axis=1)\n",
    "    \n",
    "    # Posortowanie filmów według odległości (najmniejsze odległości jako pierwsze)\n",
    "    if best: \n",
    "        sorted_indices = np.argsort(distances)\n",
    "    else:\n",
    "        sorted_indices = np.argsort(-distances)\n",
    "    \n",
    "    # Filtrowanie filmów ocenionych przez użytkownika\n",
    "    recommendations = [(movie_names[i], distances[i]) for i in sorted_indices if i not in rated_movies_indices]\n",
    "    \n",
    "    # Pobranie najlepszych filmów (top_n)\n",
    "    return recommendations[:top_n]\n"
   ]
  },
  {
   "cell_type": "code",
   "execution_count": 642,
   "id": "aa183073-de7f-4d22-bc82-5317b9ffa2c1",
   "metadata": {},
   "outputs": [
    {
     "name": "stdout",
     "output_type": "stream",
     "text": [
      "Top 5 filmów dla użytkownika Paweł Cz.:\n",
      "ocena: 8.9501\t[Wilk z Wall Street]\n",
      "ocena: 8.8133\t[Arcane]\n",
      "ocena: 8.7911\t[Harry Potter]\n",
      "ocena: 8.7668\t[Breaking Bad]\n",
      "ocena: 8.6750\t[Hobbit]\n",
      "\n",
      "\n",
      "Top 5 kinematograficznego ścieku dla użytkownika Paweł Cz.:\n",
      "ocena: 1.3136\t[Smoleńsk]\n",
      "ocena: 2.4328\t[50 twarzy greya]\n",
      "ocena: 3.4871\t[Kevin sam w domu]\n",
      "ocena: 3.8398\t[Botoks]\n",
      "ocena: 4.6236\t[Puchatek: Krew i miód]\n"
     ]
    }
   ],
   "source": [
    "# Przykład użycia:\n",
    "user_id = 'Paweł Cz.'\n",
    "top_n = 5    # Liczba rekomendacji\n",
    "\n",
    "# DataFrame `df` zawiera oceny użytkowników\n",
    "recommendations = recommend_movies_for_user(\n",
    "    user_id=user_id,\n",
    "    user_embeddings=user_embeddings,\n",
    "    movie_embeddings=movie_embeddings,\n",
    "    movie_names={v: k for k, v in movie_id_mapping.items()}, \n",
    "    user_id_mapping=user_id_mapping,\n",
    "    df=df,\n",
    "    top_n=top_n\n",
    ")\n",
    "\n",
    "recommendations2 = recommend_movies_for_user(\n",
    "    user_id=user_id,\n",
    "    user_embeddings=user_embeddings,\n",
    "    movie_embeddings=movie_embeddings,\n",
    "    movie_names={v: k for k, v in movie_id_mapping.items()},\n",
    "    user_id_mapping=user_id_mapping,\n",
    "    df=df,\n",
    "    top_n=top_n,\n",
    "    best=False\n",
    ")\n",
    "\n",
    "\n",
    "# Wyświetlenie rekomendacji\n",
    "print(f\"Top 5 filmów dla użytkownika {user_id}:\")\n",
    "for movie, distance in recommendations:\n",
    "    print(f\"ocena: {((1-distance)*10.0):.4f}\\t[{movie}]\")\n",
    "    \n",
    "print(f\"\\n\")\n",
    "\n",
    "print(f\"Top 5 kinematograficznego ścieku dla użytkownika {user_id}:\")\n",
    "for movie, distance in recommendations2:\n",
    "    print(f\"ocena: {((1-distance)*10.0):.4f}\\t[{movie}]\")"
   ]
  },
  {
   "cell_type": "code",
   "execution_count": 643,
   "id": "18aacc87-982d-4941-befb-c881a0da7bf2",
   "metadata": {},
   "outputs": [
    {
     "name": "stdout",
     "output_type": "stream",
     "text": [
      "Top 5 filmów dla użytkownika Karol Sz.:\n",
      "ocena: 8.8007\t[The Boys]\n",
      "ocena: 8.6493\t[Zielona Mila]\n",
      "ocena: 8.5955\t[Skazani na Shawshank]\n",
      "ocena: 8.5855\t[Grand Budapest Hotel]\n",
      "ocena: 8.5529\t[Gladiator]\n",
      "\n",
      "\n",
      "Top 5 kinematograficznego ścieku dla użytkownika Karol Sz.:\n",
      "ocena: 2.2777\t[Smoleńsk]\n",
      "ocena: 2.6979\t[Wyjazd integracyjny]\n",
      "ocena: 4.4971\t[Iluzja]\n",
      "ocena: 4.5422\t[Substancja]\n",
      "ocena: 4.6692\t[Kapitan Ameryka: Wojna bohaterów]\n"
     ]
    }
   ],
   "source": [
    "# Przykład użycia:\n",
    "user_id = 'Karol Sz.'\n",
    "top_n = 5    # Liczba rekomendacji\n",
    "\n",
    "# DataFrame `df` zawiera oceny użytkowników\n",
    "recommendations = recommend_movies_for_user(\n",
    "    user_id=user_id,\n",
    "    user_embeddings=user_embeddings,\n",
    "    movie_embeddings=movie_embeddings,\n",
    "    movie_names={v: k for k, v in movie_id_mapping.items()}, \n",
    "    user_id_mapping=user_id_mapping,\n",
    "    df=df,\n",
    "    top_n=top_n\n",
    ")\n",
    "\n",
    "recommendations2 = recommend_movies_for_user(\n",
    "    user_id=user_id,\n",
    "    user_embeddings=user_embeddings,\n",
    "    movie_embeddings=movie_embeddings,\n",
    "    movie_names={v: k for k, v in movie_id_mapping.items()},\n",
    "    user_id_mapping=user_id_mapping,\n",
    "    df=df,\n",
    "    top_n=top_n,\n",
    "    best=False\n",
    ")\n",
    "\n",
    "\n",
    "# Wyświetlenie rekomendacji\n",
    "print(f\"Top 5 filmów dla użytkownika {user_id}:\")\n",
    "for movie, distance in recommendations:\n",
    "    print(f\"ocena: {((1-distance)*10.0):.4f}\\t[{movie}]\")\n",
    "    \n",
    "print(f\"\\n\")\n",
    "\n",
    "print(f\"Top 5 kinematograficznego ścieku dla użytkownika {user_id}:\")\n",
    "for movie, distance in recommendations2:\n",
    "    print(f\"ocena: {((1-distance)*10.0):.4f}\\t[{movie}]\")"
   ]
  },
  {
   "cell_type": "code",
   "execution_count": 644,
   "id": "2b34caa6-c0e9-489b-aac2-b67540575cbc",
   "metadata": {},
   "outputs": [
    {
     "name": "stdout",
     "output_type": "stream",
     "text": [
      "Top 5 filmów dla użytkownika Michał J.:\n",
      "ocena: 8.8841\t[Sherlock]\n",
      "ocena: 8.7362\t[Yellowstone]\n",
      "ocena: 8.7235\t[The Last of Us]\n",
      "ocena: 8.7092\t[Wyspa tajemnic]\n",
      "ocena: 8.6572\t[Kapitan Bomba]\n",
      "\n",
      "\n",
      "Top 5 kinematograficznego ścieku dla użytkownika Michał J.:\n",
      "ocena: 2.3336\t[50 twarzy greya]\n",
      "ocena: 2.5706\t[Lucyfer]\n",
      "ocena: 2.7838\t[Wyjazd integracyjny]\n",
      "ocena: 3.5499\t[Kevin sam w domu]\n",
      "ocena: 3.9740\t[Botoks]\n"
     ]
    }
   ],
   "source": [
    "# Przykład użycia:\n",
    "user_id = 'Michał J.'\n",
    "top_n = 5    # Liczba rekomendacji\n",
    "\n",
    "# DataFrame `df` zawiera oceny użytkowników\n",
    "recommendations = recommend_movies_for_user(\n",
    "    user_id=user_id,\n",
    "    user_embeddings=user_embeddings,\n",
    "    movie_embeddings=movie_embeddings,\n",
    "    movie_names={v: k for k, v in movie_id_mapping.items()}, \n",
    "    user_id_mapping=user_id_mapping,\n",
    "    df=df,\n",
    "    top_n=top_n\n",
    ")\n",
    "\n",
    "recommendations2 = recommend_movies_for_user(\n",
    "    user_id=user_id,\n",
    "    user_embeddings=user_embeddings,\n",
    "    movie_embeddings=movie_embeddings,\n",
    "    movie_names={v: k for k, v in movie_id_mapping.items()},\n",
    "    user_id_mapping=user_id_mapping,\n",
    "    df=df,\n",
    "    top_n=top_n,\n",
    "    best=False\n",
    ")\n",
    "\n",
    "\n",
    "# Wyświetlenie rekomendacji\n",
    "print(f\"Top 5 filmów dla użytkownika {user_id}:\")\n",
    "for movie, distance in recommendations:\n",
    "    print(f\"ocena: {((1-distance)*10.0):.4f}\\t[{movie}]\")\n",
    "    \n",
    "print(f\"\\n\")\n",
    "\n",
    "print(f\"Top 5 kinematograficznego ścieku dla użytkownika {user_id}:\")\n",
    "for movie, distance in recommendations2:\n",
    "    print(f\"ocena: {((1-distance)*10.0):.4f}\\t[{movie}]\")"
   ]
  },
  {
   "cell_type": "code",
   "execution_count": null,
   "id": "d260b359-43eb-44e8-8af2-5489084e4d0c",
   "metadata": {},
   "outputs": [],
   "source": []
  }
 ],
 "metadata": {
  "kernelspec": {
   "display_name": "Python (tf-gpu)",
   "language": "python",
   "name": "tf-gpu"
  },
  "language_info": {
   "codemirror_mode": {
    "name": "ipython",
    "version": 3
   },
   "file_extension": ".py",
   "mimetype": "text/x-python",
   "name": "python",
   "nbconvert_exporter": "python",
   "pygments_lexer": "ipython3",
   "version": "3.12.4"
  }
 },
 "nbformat": 4,
 "nbformat_minor": 5
}
